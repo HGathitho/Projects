{
 "cells": [
  {
   "cell_type": "code",
   "execution_count": 6,
   "id": "72b25455-c03a-472d-b0c5-8e0f3a4edbca",
   "metadata": {},
   "outputs": [
    {
     "name": "stdout",
     "output_type": "stream",
     "text": [
      "Hello \n",
      "Hello Alan\n"
     ]
    }
   ],
   "source": [
    "def hello(user_name=''): # Practice function\n",
    "    \"\"\" A docstring describing the function \"\"\"\n",
    "    print('Hello ' + user_name)\n",
    "\n",
    "hello()\n",
    "hello('Alan')"
   ]
  },
  {
   "cell_type": "code",
   "execution_count": 8,
   "id": "cbc08bad-0fd0-452f-9122-87fb444918ad",
   "metadata": {},
   "outputs": [],
   "source": [
    "names = ['Schrepfer', 'Maier', 'Santiago', 'Adams']\n",
    "#alphabetize(names)"
   ]
  },
  {
   "cell_type": "markdown",
   "id": "58d681ac-9e5a-4135-a4e3-bdfcbb5aa2ba",
   "metadata": {},
   "source": [
    "#### Passing in an arbitrary number of arguments"
   ]
  },
  {
   "cell_type": "code",
   "execution_count": 9,
   "id": "ffc11882-ef3d-4416-a124-1016e34b2e69",
   "metadata": {},
   "outputs": [],
   "source": [
    "def sorter(*args):\n",
    "    \"\"\" Pass in any number of arguments separated by commas\n",
    "    Inside the function, they treated as a tuple named args \"\"\"\n",
    "    # The passed-in\n",
    "    # Create a list from the passed-in tuple\n",
    "    newlist = list(args)\n",
    "    # Sort and show the list.\n",
    "    newlist.sort()\n",
    "    print(newlist)"
   ]
  },
  {
   "cell_type": "code",
   "execution_count": 10,
   "id": "48848756-97fc-4ded-abc9-24fad89eebb8",
   "metadata": {},
   "outputs": [
    {
     "name": "stdout",
     "output_type": "stream",
     "text": [
      "[27.8, 76.2, 89, 90.45]\n"
     ]
    }
   ],
   "source": [
    "sorter(27.8,89,76.2,90.45)"
   ]
  },
  {
   "cell_type": "code",
   "execution_count": null,
   "id": "22745213-24c5-492e-bb11-2cdf580ce132",
   "metadata": {},
   "outputs": [],
   "source": []
  }
 ],
 "metadata": {
  "kernelspec": {
   "display_name": "Python 3 (ipykernel)",
   "language": "python",
   "name": "python3"
  },
  "language_info": {
   "codemirror_mode": {
    "name": "ipython",
    "version": 3
   },
   "file_extension": ".py",
   "mimetype": "text/x-python",
   "name": "python",
   "nbconvert_exporter": "python",
   "pygments_lexer": "ipython3",
   "version": "3.9.12"
  }
 },
 "nbformat": 4,
 "nbformat_minor": 5
}

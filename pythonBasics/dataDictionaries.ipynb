{
 "cells": [
  {
   "cell_type": "code",
   "execution_count": 17,
   "id": "096e6704-03d8-4233-9534-2bd403e93c54",
   "metadata": {},
   "outputs": [],
   "source": [
    "# Dictionaries are defined by key and value\n",
    "people = {\n",
    "    'htanaka':'Haru Tanaka',\n",
    "    'ppatel':'Priya Patel',\n",
    "    'bagarcia':'Benjamin Alberto',\n",
    "    'zmin':'Zhang Min',\n",
    "    'afrioqi':'Ayesha Farooqi',\n",
    "    'hajackson':'Hanna Jackson',\n",
    "    'papatel':'Pratyush Patel',\n",
    "    'hrjackson':'Henry Jackson'\n",
    "\n",
    "}"
   ]
  },
  {
   "cell_type": "code",
   "execution_count": 2,
   "id": "c5ca39c4-fe0d-4720-bd9c-b96c13b4a4a7",
   "metadata": {},
   "outputs": [
    {
     "name": "stdout",
     "output_type": "stream",
     "text": [
      "{'htanaka': 'Haru Tanaka', 'ppatel': 'Priya Patel', 'bagarcia': 'Benjamin Alberto', 'zmin': 'Zhang Min', 'afrioqi': 'Ayesha Farooqi', 'hajackson': 'Hanna Jackson', 'papatel': 'Pratyush Patel', 'hrjackson': 'Henry Jackson'}\n"
     ]
    }
   ],
   "source": [
    "# Accessing dictionaries\n",
    "print(people)"
   ]
  },
  {
   "cell_type": "code",
   "execution_count": 4,
   "id": "62075445-7a65-48ea-b071-e1d94f7e04eb",
   "metadata": {},
   "outputs": [
    {
     "name": "stdout",
     "output_type": "stream",
     "text": [
      "Zhang Min\n"
     ]
    }
   ],
   "source": [
    "print(people['zmin'])"
   ]
  },
  {
   "cell_type": "code",
   "execution_count": 5,
   "id": "abf55f34-95b4-4920-a459-37fc639730e1",
   "metadata": {},
   "outputs": [
    {
     "data": {
      "text/plain": [
       "8"
      ]
     },
     "execution_count": 5,
     "metadata": {},
     "output_type": "execute_result"
    }
   ],
   "source": [
    "len(people)"
   ]
  },
  {
   "cell_type": "code",
   "execution_count": 6,
   "id": "cc4a7684-d4e1-4352-b7ab-87412e8c9311",
   "metadata": {},
   "outputs": [
    {
     "name": "stdout",
     "output_type": "stream",
     "text": [
      "True\n"
     ]
    }
   ],
   "source": [
    "print('zmin' in people)"
   ]
  },
  {
   "cell_type": "code",
   "execution_count": 7,
   "id": "3e35529d-5a62-4e83-b892-ee0b4de92194",
   "metadata": {},
   "outputs": [
    {
     "name": "stdout",
     "output_type": "stream",
     "text": [
      "Benjamin Alberto\n"
     ]
    }
   ],
   "source": [
    "# Getting  dictionary data with get\n",
    "# dictionaryname.get(key)\n",
    "person = 'bagarcia'\n",
    "print(people.get(person))"
   ]
  },
  {
   "cell_type": "code",
   "execution_count": 9,
   "id": "ce88bff8-e1a8-4c45-b8f7-1fe0c7b9acf7",
   "metadata": {},
   "outputs": [
    {
     "name": "stdout",
     "output_type": "stream",
     "text": [
      "None\n"
     ]
    }
   ],
   "source": [
    "person='edwin'\n",
    "print(people.get(person))"
   ]
  },
  {
   "cell_type": "code",
   "execution_count": 10,
   "id": "f44c7bce-f49c-4dab-a485-4e9b2ac74b1b",
   "metadata": {},
   "outputs": [
    {
     "name": "stdout",
     "output_type": "stream",
     "text": [
      "Unbeknownst to this dictionary\n"
     ]
    }
   ],
   "source": [
    "print(people.get('schmeedledorp','Unbeknownst to this dictionary'))"
   ]
  },
  {
   "cell_type": "code",
   "execution_count": 11,
   "id": "76beda62-19ff-448a-acbd-7cf4401a4814",
   "metadata": {},
   "outputs": [
    {
     "name": "stdout",
     "output_type": "stream",
     "text": [
      "{'papatel': 'Pratyush Aarav Patel', 'hrjackson': 'Henrietta Jackson'}\n"
     ]
    }
   ],
   "source": [
    "people = {\n",
    "    'papatel': 'Pratyush Aarav Patel',\n",
    "    'hrjackson': 'Henry Jackson'\n",
    " }\n",
    "# Change the value of the hrjackson key.\n",
    "people.update({'hrjackson':'Henrietta Jackson'})\n",
    "print(people)\n",
    "# Update the dictionary with a new property:value pair.\n",
    "people.update({'wwiggins':'Wanda Wiggins'})"
   ]
  },
  {
   "cell_type": "code",
   "execution_count": 12,
   "id": "409df2b2-865b-483b-bd1e-15ec9fb164ad",
   "metadata": {},
   "outputs": [
    {
     "name": "stdout",
     "output_type": "stream",
     "text": [
      "{'papatel': 'Pratyush Aarav Patel', 'hrjackson': 'Henrietta Jackson', 'wwiggins': 'Wanda Wiggins'}\n"
     ]
    }
   ],
   "source": [
    "print(people)"
   ]
  },
  {
   "cell_type": "code",
   "execution_count": 14,
   "id": "6bfa7996-044b-4f01-8ba2-9bfa71d7c726",
   "metadata": {},
   "outputs": [
    {
     "name": "stdout",
     "output_type": "stream",
     "text": [
      "papatel=Pratyush Aarav Patel\n",
      "hrjackson=Henrietta Jackson\n",
      "wwiggins=Wanda Wiggins\n"
     ]
    }
   ],
   "source": [
    "# Show what's in the data dictionary now.\n",
    "for person in people.keys():\n",
    "    print(person + \"=\" + people[person]) "
   ]
  },
  {
   "cell_type": "code",
   "execution_count": 18,
   "id": "d003b7ce-ec34-4c5b-b06c-5f0b1dd03b84",
   "metadata": {},
   "outputs": [
    {
     "name": "stdout",
     "output_type": "stream",
     "text": [
      "htanaka\n",
      "ppatel\n",
      "bagarcia\n",
      "zmin\n",
      "afrioqi\n",
      "hajackson\n",
      "papatel\n",
      "hrjackson\n"
     ]
    }
   ],
   "source": [
    "# Looping through a dictionary\n",
    "for person in people:\n",
    "    print(person)"
   ]
  },
  {
   "cell_type": "code",
   "execution_count": 19,
   "id": "f7a32310-1672-4635-a253-bd86ec3cdbe9",
   "metadata": {},
   "outputs": [
    {
     "name": "stdout",
     "output_type": "stream",
     "text": [
      "Haru Tanaka\n",
      "Priya Patel\n",
      "Benjamin Alberto\n",
      "Zhang Min\n",
      "Ayesha Farooqi\n",
      "Hanna Jackson\n",
      "Pratyush Patel\n",
      "Henry Jackson\n"
     ]
    }
   ],
   "source": [
    "for person in people:\n",
    "    print(people[person])"
   ]
  },
  {
   "cell_type": "code",
   "execution_count": 21,
   "id": "a3a8a85b-3c85-4c22-aa76-2dddf229f17d",
   "metadata": {},
   "outputs": [
    {
     "name": "stdout",
     "output_type": "stream",
     "text": [
      "Haru Tanaka\n",
      "Priya Patel\n",
      "Benjamin Alberto\n",
      "Zhang Min\n",
      "Ayesha Farooqi\n",
      "Hanna Jackson\n",
      "Pratyush Patel\n",
      "Henry Jackson\n"
     ]
    }
   ],
   "source": [
    "for person in people.values():\n",
    "    print(person)"
   ]
  },
  {
   "cell_type": "code",
   "execution_count": 23,
   "id": "9d43b21b-4e7e-4531-890a-a086a1b8971a",
   "metadata": {},
   "outputs": [
    {
     "name": "stdout",
     "output_type": "stream",
     "text": [
      "htanaka = Haru Tanaka\n",
      "ppatel = Priya Patel\n",
      "bagarcia = Benjamin Alberto\n",
      "zmin = Zhang Min\n",
      "afrioqi = Ayesha Farooqi\n",
      "hajackson = Hanna Jackson\n",
      "papatel = Pratyush Patel\n",
      "hrjackson = Henry Jackson\n"
     ]
    }
   ],
   "source": [
    "for key, value in people.items():\n",
    "    print(key,'=',value)"
   ]
  },
  {
   "cell_type": "code",
   "execution_count": 26,
   "id": "6f6f4370-f563-4ea5-a4ca-3da02c30fb34",
   "metadata": {},
   "outputs": [
    {
     "name": "stdout",
     "output_type": "stream",
     "text": [
      "Name:  Ray-Ban Wayfarer Sunglasses\n",
      "Price:  $112.99\n",
      "Taxable:  True\n",
      "In Stock: 10\n",
      "Models:\n",
      "          Black\n",
      "          Tortoise\n"
     ]
    }
   ],
   "source": [
    "product = {\n",
    "    'name' : 'Ray-Ban Wayfarer Sunglasses',\n",
    "    'unit_price' : 112.99,\n",
    "    'taxable' : True,\n",
    "    'in_stock' : 10,\n",
    "    'models' : ['Black', 'Tortoise']\n",
    "}\n",
    "print('Name: ', product['name'])\n",
    "print('Price: ',f\"${product['unit_price']:.2f}\")\n",
    "print('Taxable: ',product['taxable'])\n",
    "print('In Stock:',product['in_stock'])\n",
    "print('Models:')\n",
    "for model in product['models']:\n",
    " print(\" \" * 10 + model)"
   ]
  },
  {
   "cell_type": "code",
   "execution_count": 28,
   "id": "50e6cc4c-faa6-4b23-a02a-ca394cad367d",
   "metadata": {},
   "outputs": [
    {
     "name": "stdout",
     "output_type": "stream",
     "text": [
      "{'name': None, 'unit_price': None, 'taxable': None, 'in_stock': None, 'models': None}\n"
     ]
    }
   ],
   "source": [
    "# Create a dictionary names DWC001 that has the same keys as product.\n",
    "DWC001 = dict.fromkeys(product.keys())\n",
    "#Show what's in the new dictionary.\n",
    "print(DWC001)"
   ]
  },
  {
   "cell_type": "code",
   "execution_count": null,
   "id": "aa661f80-fabd-4d3f-801e-b07e1c34f5d5",
   "metadata": {},
   "outputs": [],
   "source": []
  }
 ],
 "metadata": {
  "kernelspec": {
   "display_name": "Python 3 (ipykernel)",
   "language": "python",
   "name": "python3"
  },
  "language_info": {
   "codemirror_mode": {
    "name": "ipython",
    "version": 3
   },
   "file_extension": ".py",
   "mimetype": "text/x-python",
   "name": "python",
   "nbconvert_exporter": "python",
   "pygments_lexer": "ipython3",
   "version": "3.9.12"
  }
 },
 "nbformat": 4,
 "nbformat_minor": 5
}

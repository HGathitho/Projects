{
 "cells": [
  {
   "cell_type": "code",
   "execution_count": 9,
   "id": "a6ed4e64-2163-4296-b1b1-2a0b73dd9556",
   "metadata": {},
   "outputs": [
    {
     "ename": "NameError",
     "evalue": "name 'speaKText' is not defined",
     "output_type": "error",
     "traceback": [
      "\u001b[1;31m---------------------------------------------------------------------------\u001b[0m",
      "\u001b[1;31mNameError\u001b[0m                                 Traceback (most recent call last)",
      "Input \u001b[1;32mIn [9]\u001b[0m, in \u001b[0;36m<cell line: 42>\u001b[1;34m()\u001b[0m\n\u001b[0;32m     40\u001b[0m     \u001b[38;5;28mprint\u001b[39m(boyDog\u001b[38;5;241m.\u001b[39mspeak())\n\u001b[0;32m     42\u001b[0m \u001b[38;5;28;01mif\u001b[39;00m \u001b[38;5;18m__name__\u001b[39m \u001b[38;5;241m==\u001b[39m \u001b[38;5;124m\"\u001b[39m\u001b[38;5;124m__main__\u001b[39m\u001b[38;5;124m\"\u001b[39m:\n\u001b[1;32m---> 43\u001b[0m     \u001b[43mmain\u001b[49m\u001b[43m(\u001b[49m\u001b[43m)\u001b[49m\n",
      "Input \u001b[1;32mIn [9]\u001b[0m, in \u001b[0;36mmain\u001b[1;34m()\u001b[0m\n\u001b[0;32m     31\u001b[0m \u001b[38;5;28;01mdef\u001b[39;00m \u001b[38;5;21mmain\u001b[39m():\n\u001b[0;32m     32\u001b[0m     \u001b[38;5;66;03m# Creating Objects and calling methods\u001b[39;00m\n\u001b[1;32m---> 33\u001b[0m     boyDog \u001b[38;5;241m=\u001b[39m \u001b[43mDog\u001b[49m\u001b[43m(\u001b[49m\u001b[38;5;124;43m\"\u001b[39;49m\u001b[38;5;124;43mMesa\u001b[39;49m\u001b[38;5;124;43m\"\u001b[39;49m\u001b[43m,\u001b[49m\u001b[43m \u001b[49m\u001b[38;5;241;43m5\u001b[39;49m\u001b[43m,\u001b[49m\u001b[43m \u001b[49m\u001b[38;5;241;43m15\u001b[39;49m\u001b[43m,\u001b[49m\u001b[43m \u001b[49m\u001b[38;5;241;43m2004\u001b[39;49m\u001b[43m,\u001b[49m\u001b[43m \u001b[49m\u001b[38;5;124;43m\"\u001b[39;49m\u001b[38;5;124;43mWOOOF\u001b[39;49m\u001b[38;5;124;43m\"\u001b[39;49m\u001b[43m)\u001b[49m\n\u001b[0;32m     34\u001b[0m     girlDog \u001b[38;5;241m=\u001b[39m Dog(\u001b[38;5;124m\"\u001b[39m\u001b[38;5;124mSequoia\u001b[39m\u001b[38;5;124m\"\u001b[39m, \u001b[38;5;241m5\u001b[39m, \u001b[38;5;241m6\u001b[39m, \u001b[38;5;241m2004\u001b[39m, \u001b[38;5;124m\"\u001b[39m\u001b[38;5;124mbarkbark\u001b[39m\u001b[38;5;124m\"\u001b[39m)\n\u001b[0;32m     35\u001b[0m     \u001b[38;5;28mprint\u001b[39m(boyDog\u001b[38;5;241m.\u001b[39mspeak())\n",
      "Input \u001b[1;32mIn [9]\u001b[0m, in \u001b[0;36mDog.__init__\u001b[1;34m(self, name, month, day, year, speakText)\u001b[0m\n\u001b[0;32m      6\u001b[0m \u001b[38;5;28mself\u001b[39m\u001b[38;5;241m.\u001b[39mday \u001b[38;5;241m=\u001b[39m day\n\u001b[0;32m      7\u001b[0m \u001b[38;5;28mself\u001b[39m\u001b[38;5;241m.\u001b[39myear \u001b[38;5;241m=\u001b[39m year\n\u001b[1;32m----> 8\u001b[0m \u001b[38;5;28mself\u001b[39m\u001b[38;5;241m.\u001b[39mspeakText \u001b[38;5;241m=\u001b[39m \u001b[43mspeaKText\u001b[49m\n",
      "\u001b[1;31mNameError\u001b[0m: name 'speaKText' is not defined"
     ]
    }
   ],
   "source": [
    "# Implementing a class\n",
    "class Dog:\n",
    "    def __init__(self, name, month, day, year, speakText):\n",
    "        self.name = name\n",
    "        self.month = month\n",
    "        self.day = day\n",
    "        self.year = year\n",
    "        self.speakText = speaKText\n",
    "        \n",
    "    # This is an accessor method that returns the speakText stored in the\n",
    "    # object. Notice that \"self\" is a parameter. Every method has \"self\" as its\n",
    "    # first parameter. The \"self\" parameter is a reference to the current\n",
    "    # object. The current object appears on the left hand side of the dot (i.e.\n",
    "    # the .) when the method is called.    \n",
    "    def speak(self):\n",
    "        return self.speaKText\n",
    "    \n",
    "    # Here is an accessor method to get the name\n",
    "    def getName(self):\n",
    "        return self.name\n",
    "    \n",
    "    # This is another accessor method that uses the birthday information to\n",
    "    # return a string representing the date.\n",
    "    def birthDate(self):\n",
    "        return str(self.month) + \"/\" + str(self.day) + \"/\" + str(self.year)\n",
    "    \n",
    "    # This is a mutator method that changes the speakText of the Dog object.\n",
    "    def changeBark(self,bark):\n",
    "        self.speakText = bark\n",
    "        \n",
    "def main():\n",
    "    # Creating Objects and calling methods\n",
    "    boyDog = Dog(\"Mesa\", 5, 15, 2004, \"WOOOF\")\n",
    "    girlDog = Dog(\"Sequoia\", 5, 6, 2004, \"barkbark\")\n",
    "    print(boyDog.speak())\n",
    "    print(girlDog.speak())\n",
    "    print(boyDog.birthDate())\n",
    "    print(girlDog.birthDate())\n",
    "    boyDog.changeBark(\"woofywoofy\")\n",
    "    print(boyDog.speak())\n",
    "    \n",
    "if __name__ == \"__main__\":\n",
    "    main()\n",
    "    "
   ]
  },
  {
   "cell_type": "code",
   "execution_count": 11,
   "id": "a87f4c75-261c-44a5-aa06-54c6815bbec8",
   "metadata": {},
   "outputs": [
    {
     "ename": "SyntaxError",
     "evalue": "invalid syntax (2999627948.py, line 5)",
     "output_type": "error",
     "traceback": [
      "\u001b[1;36m  Input \u001b[1;32mIn [11]\u001b[1;36m\u001b[0m\n\u001b[1;33m    The main code of the program goes here\u001b[0m\n\u001b[1;37m        ^\u001b[0m\n\u001b[1;31mSyntaxError\u001b[0m\u001b[1;31m:\u001b[0m invalid syntax\n"
     ]
    }
   ],
   "source": [
    "import turtle\n",
    "\n",
    "# other function definitions followed by the main function definition\n",
    "def main():\n",
    "    The main code of the program goes here\n",
    "    t = turtle.Turtle()\n",
    "\n",
    "# this code calls the main function to get everything started. The condition in this\n",
    "# if statement evaluates to True when the module is executed by the interpreter, but\n",
    "# not when it is imported into another module.\n",
    "if __name__ == \"__main__\":\n",
    "    main()"
   ]
  },
  {
   "cell_type": "code",
   "execution_count": null,
   "id": "e70bb39b-c1f2-4492-934f-6045f55a4df5",
   "metadata": {},
   "outputs": [],
   "source": []
  },
  {
   "cell_type": "code",
   "execution_count": null,
   "id": "f76555b7-785b-4050-aa7a-7754a87abf38",
   "metadata": {},
   "outputs": [],
   "source": []
  }
 ],
 "metadata": {
  "kernelspec": {
   "display_name": "Python 3 (ipykernel)",
   "language": "python",
   "name": "python3"
  },
  "language_info": {
   "codemirror_mode": {
    "name": "ipython",
    "version": 3
   },
   "file_extension": ".py",
   "mimetype": "text/x-python",
   "name": "python",
   "nbconvert_exporter": "python",
   "pygments_lexer": "ipython3",
   "version": "3.9.12"
  }
 },
 "nbformat": 4,
 "nbformat_minor": 5
}

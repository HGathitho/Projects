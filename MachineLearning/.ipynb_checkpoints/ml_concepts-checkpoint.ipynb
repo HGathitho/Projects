{
 "cells": [
  {
   "cell_type": "code",
   "execution_count": 11,
   "id": "4d6afd40-fb63-4372-9dcf-c0dab0bf1936",
   "metadata": {},
   "outputs": [
    {
     "name": "stdout",
     "output_type": "stream",
     "text": [
      "[44 21 37]\n",
      "(3,)\n"
     ]
    }
   ],
   "source": [
    "import numpy as np\n",
    "y = np.array([44,21,37])\n",
    "\n",
    "print(y)\n",
    "print(y.shape)\n"
   ]
  },
  {
   "cell_type": "code",
   "execution_count": 14,
   "id": "307091c5-ef13-4fa7-9e42-93de0a0b7568",
   "metadata": {},
   "outputs": [
    {
     "name": "stdout",
     "output_type": "stream",
     "text": [
      "[[  1.1   1.  545.    1. ]\n",
      " [  4.6   0.  345.    2. ]\n",
      " [  7.2   1.  754.    3. ]]\n"
     ]
    }
   ],
   "source": [
    "X = np.array([[1.1, 1, 545, 1],[4.6, 0, 345, 2],[7.2, 1, 754, 3]])\n",
    "print(X)"
   ]
  },
  {
   "cell_type": "code",
   "execution_count": 15,
   "id": "e84c03cd-2aff-49cd-9d64-567ba16edae5",
   "metadata": {},
   "outputs": [],
   "source": [
    "X = np.array([1.1, 1, 545, 1, 4.6, 0, 345, 2,\n",
    " 7.2, 1, 754, 3]).reshape(3,4)"
   ]
  },
  {
   "cell_type": "code",
   "execution_count": 16,
   "id": "1d5b50d9-8a55-414a-a798-1696cfa9f85f",
   "metadata": {},
   "outputs": [
    {
     "data": {
      "text/plain": [
       "array([[  1.1,   1. , 545. ,   1. ],\n",
       "       [  4.6,   0. , 345. ,   2. ],\n",
       "       [  7.2,   1. , 754. ,   3. ]])"
      ]
     },
     "execution_count": 16,
     "metadata": {},
     "output_type": "execute_result"
    }
   ],
   "source": [
    "X"
   ]
  },
  {
   "cell_type": "code",
   "execution_count": 17,
   "id": "103a8025-6817-4412-a430-8dd2598f440f",
   "metadata": {},
   "outputs": [
    {
     "name": "stdout",
     "output_type": "stream",
     "text": [
      "[[ 0  1]\n",
      " [ 1 -1]]\n"
     ]
    }
   ],
   "source": [
    "a = np.array([[1, 1],[1, 0]])\n",
    "b = np.array([[1, 0],[0, 1]])\n",
    "print (a - b)"
   ]
  },
  {
   "cell_type": "code",
   "execution_count": 18,
   "id": "9fae1331-feec-4b6d-9acf-d53e95c0c13a",
   "metadata": {},
   "outputs": [
    {
     "name": "stdout",
     "output_type": "stream",
     "text": [
      "[[ 0 -2]\n",
      " [-2  2]]\n"
     ]
    }
   ],
   "source": [
    "a = np.array([[0, 1],[1, -1]])\n",
    "print (a * -2)"
   ]
  },
  {
   "cell_type": "code",
   "execution_count": 19,
   "id": "a8335138-62f3-468e-9a9e-4ad28a8df6ac",
   "metadata": {},
   "outputs": [
    {
     "name": "stdout",
     "output_type": "stream",
     "text": [
      "[ 2 -2  3]\n"
     ]
    }
   ],
   "source": [
    "X = np.array([[4, 5],[2, 4],[3, 3]])\n",
    "b = np.array([3,-2])\n",
    "print(np.dot(X, b))"
   ]
  },
  {
   "cell_type": "code",
   "execution_count": 20,
   "id": "eb4aad17-f319-45fb-b2c0-0929c905aa81",
   "metadata": {},
   "outputs": [
    {
     "name": "stdout",
     "output_type": "stream",
     "text": [
      "[[ 2 17]\n",
      " [-2 16]\n",
      " [ 3  9]]\n"
     ]
    }
   ],
   "source": [
    "B = np.array([[3, -2],[-2, 5]])\n",
    "print (np.dot(X, B))"
   ]
  },
  {
   "cell_type": "code",
   "execution_count": null,
   "id": "e018f56b-6ea0-4399-bf14-130f7f53a3ae",
   "metadata": {},
   "outputs": [],
   "source": [
    "class employee(object):\n",
    "    def__init__(self):\n",
    "        self.Age = 'Employee Age is 28 years'\n",
    "    def EmployeeID(self):\n",
    "        print('this is just employee unique identity')"
   ]
  }
 ],
 "metadata": {
  "kernelspec": {
   "display_name": "Python 3 (ipykernel)",
   "language": "python",
   "name": "python3"
  },
  "language_info": {
   "codemirror_mode": {
    "name": "ipython",
    "version": 3
   },
   "file_extension": ".py",
   "mimetype": "text/x-python",
   "name": "python",
   "nbconvert_exporter": "python",
   "pygments_lexer": "ipython3",
   "version": "3.9.12"
  }
 },
 "nbformat": 4,
 "nbformat_minor": 5
}

{
 "cells": [
  {
   "cell_type": "code",
   "execution_count": 3,
   "id": "52a054d9-5afe-4b81-91b9-62453d8f0394",
   "metadata": {},
   "outputs": [
    {
     "name": "stdout",
     "output_type": "stream",
     "text": [
      "(506, 13)\n"
     ]
    }
   ],
   "source": [
    "from sklearn.datasets import load_boston\n",
    "Boston = load_boston()\n",
    "print (Boston.data.shape)"
   ]
  },
  {
   "cell_type": "code",
   "execution_count": 11,
   "id": "26866ef0-b24c-4c18-a6a3-095499ab9d9e",
   "metadata": {},
   "outputs": [
    {
     "data": {
      "text/plain": [
       "datetime.datetime(2022, 11, 13, 5, 2, 2, 333880)"
      ]
     },
     "execution_count": 11,
     "metadata": {},
     "output_type": "execute_result"
    }
   ],
   "source": [
    "import datetime\n",
    "datetime.datetime.now()"
   ]
  },
  {
   "cell_type": "code",
   "execution_count": 14,
   "id": "9b9f30c6-9135-49bf-9f57-31dc930fc038",
   "metadata": {},
   "outputs": [
    {
     "data": {
      "text/plain": [
       "'2022-11-13'"
      ]
     },
     "execution_count": 14,
     "metadata": {},
     "output_type": "execute_result"
    }
   ],
   "source": [
    "import datetime\n",
    "str(datetime.datetime.now().date())"
   ]
  },
  {
   "cell_type": "code",
   "execution_count": 15,
   "id": "5bc88f35-7973-4b27-8a41-804c907e421d",
   "metadata": {},
   "outputs": [
    {
     "data": {
      "text/plain": [
       "'05:04:19.737699'"
      ]
     },
     "execution_count": 15,
     "metadata": {},
     "output_type": "execute_result"
    }
   ],
   "source": [
    "str(datetime.datetime.now().time())"
   ]
  },
  {
   "cell_type": "code",
   "execution_count": 23,
   "id": "7208b708-02b8-4387-8013-f5394d03f767",
   "metadata": {},
   "outputs": [],
   "source": [
    "# Working with functions\n",
    "def sayHello():\n",
    "    print('Hello There!')"
   ]
  },
  {
   "cell_type": "code",
   "execution_count": 24,
   "id": "e17817e1-4d2d-4cdb-b15f-981f6335c0c6",
   "metadata": {},
   "outputs": [
    {
     "name": "stdout",
     "output_type": "stream",
     "text": [
      "Hello There!\n"
     ]
    }
   ],
   "source": [
    "sayHello()"
   ]
  },
  {
   "cell_type": "code",
   "execution_count": 25,
   "id": "4807c614-dcde-433d-ae96-6a9187a0126a",
   "metadata": {},
   "outputs": [],
   "source": [
    "# working with positional arguements in python functions\n",
    "def doSum(Value1, Value2):\n",
    "    return Value1 + Value2"
   ]
  },
  {
   "cell_type": "code",
   "execution_count": 28,
   "id": "49262605-2a76-490d-88cf-46bb3fb1ae07",
   "metadata": {},
   "outputs": [
    {
     "data": {
      "text/plain": [
       "15"
      ]
     },
     "execution_count": 28,
     "metadata": {},
     "output_type": "execute_result"
    }
   ],
   "source": [
    "doSum(2,4)\n",
    "doSum(8,7)"
   ]
  },
  {
   "cell_type": "code",
   "execution_count": 30,
   "id": "61da3833-4dda-4ef4-af3d-b31cf1a05cfe",
   "metadata": {},
   "outputs": [],
   "source": [
    "# sending arguments by keyword insted pf postional arguments\n",
    "def displaySum(Value1, Value2):\n",
    "    print(str(Value1) + '+' + str(Value2) + '=' + str(Value1+Value2))"
   ]
  },
  {
   "cell_type": "code",
   "execution_count": 32,
   "id": "2036e629-0d7d-455f-ad12-cc5fe951d0f1",
   "metadata": {},
   "outputs": [
    {
     "name": "stdout",
     "output_type": "stream",
     "text": [
      "8+7=15\n"
     ]
    }
   ],
   "source": [
    "displaySum(8,7)"
   ]
  },
  {
   "cell_type": "code",
   "execution_count": 33,
   "id": "6b9710ba-6349-47b8-adec-42d4fbe6c936",
   "metadata": {},
   "outputs": [],
   "source": [
    "# giving function arguments as a default\n",
    "def sayHello(Greeting='No value supplied'):\n",
    "    print(Greeting)"
   ]
  },
  {
   "cell_type": "code",
   "execution_count": 34,
   "id": "e9ba4be0-ccc7-4cde-b275-04678e3314f1",
   "metadata": {},
   "outputs": [
    {
     "name": "stdout",
     "output_type": "stream",
     "text": [
      "No value supplied\n"
     ]
    }
   ],
   "source": [
    "sayHello()"
   ]
  },
  {
   "cell_type": "code",
   "execution_count": 35,
   "id": "020472e0-586c-4a70-b162-f892f952ef71",
   "metadata": {},
   "outputs": [
    {
     "name": "stdout",
     "output_type": "stream",
     "text": [
      "Howdy!\n"
     ]
    }
   ],
   "source": [
    "sayHello('Howdy!')"
   ]
  },
  {
   "cell_type": "code",
   "execution_count": 37,
   "id": "ad76d13c-f0c7-4191-9c51-1e0ae67f062a",
   "metadata": {},
   "outputs": [],
   "source": [
    "def DisplayMulti(ArgCount = 0, *VarArgs):\n",
    " print('You passed ' + str(ArgCount) + ' arguments.',\n",
    " VarArgs)"
   ]
  },
  {
   "cell_type": "code",
   "execution_count": 38,
   "id": "60c468c4-9431-4e58-8ecb-977452fc3e9e",
   "metadata": {},
   "outputs": [
    {
     "name": "stdout",
     "output_type": "stream",
     "text": [
      "You passed 0 arguments. ()\n"
     ]
    }
   ],
   "source": [
    "DisplayMulti()"
   ]
  },
  {
   "cell_type": "code",
   "execution_count": 43,
   "id": "79741cdf-334d-4ceb-9f09-0035452f611d",
   "metadata": {},
   "outputs": [
    {
     "name": "stdout",
     "output_type": "stream",
     "text": [
      "You passed 3 arguments. ('How are you', 4, False)\n"
     ]
    }
   ],
   "source": [
    "DisplayMulti(3, 'How are you',4,False)"
   ]
  },
  {
   "cell_type": "code",
   "execution_count": 46,
   "id": "b5122a94-3f16-4b58-a898-a91c024ad17c",
   "metadata": {},
   "outputs": [],
   "source": [
    "# Working with global variables\n",
    "# global variables are those that are available to everyone within the module\n",
    "myStr = 'Hello'\n",
    "\n",
    "def printStr():\n",
    "    global myStr\n",
    "    print(myStr)\n",
    "    myStr='There!'\n",
    "    print(myStr)"
   ]
  },
  {
   "cell_type": "code",
   "execution_count": 47,
   "id": "6f9aaa5d-1a36-4b23-8637-9a4ffb721a29",
   "metadata": {},
   "outputs": [
    {
     "name": "stdout",
     "output_type": "stream",
     "text": [
      "Hello\n",
      "There!\n"
     ]
    }
   ],
   "source": [
    "printStr()"
   ]
  },
  {
   "cell_type": "code",
   "execution_count": 70,
   "id": "472b74b3-4905-4715-9737-ac9f458660af",
   "metadata": {},
   "outputs": [],
   "source": [
    "# making decisions using the if statements\n",
    "\n",
    "def testValue(Value):\n",
    "    if Value == 5:\n",
    "        print('Value equals 5!')\n",
    "    elif Value == 6:\n",
    "        print('Value equals 6!')\n",
    "    else:\n",
    "        print('Value is something else')\n",
    "        print('It equals' + ' ' + str(Value))"
   ]
  },
  {
   "cell_type": "code",
   "execution_count": 71,
   "id": "659ca868-dd13-444e-8398-cd730879d7d2",
   "metadata": {},
   "outputs": [
    {
     "name": "stdout",
     "output_type": "stream",
     "text": [
      "Value equals 5!\n"
     ]
    }
   ],
   "source": [
    "testValue(5)"
   ]
  },
  {
   "cell_type": "code",
   "execution_count": 72,
   "id": "86f8fa00-6ff6-4cc8-a7a4-897bcd786990",
   "metadata": {},
   "outputs": [
    {
     "name": "stdout",
     "output_type": "stream",
     "text": [
      "Value is something else\n",
      "It equals 7\n"
     ]
    }
   ],
   "source": [
    "testValue(7)"
   ]
  },
  {
   "cell_type": "code",
   "execution_count": 73,
   "id": "ca72e2e3-2549-4c6c-947e-d6a8ef20de95",
   "metadata": {},
   "outputs": [
    {
     "name": "stdout",
     "output_type": "stream",
     "text": [
      "Value equals 6!\n"
     ]
    }
   ],
   "source": [
    "testValue(6)"
   ]
  },
  {
   "cell_type": "code",
   "execution_count": 74,
   "id": "4a64fb23-21aa-43d6-bf26-a51e36a55dd7",
   "metadata": {},
   "outputs": [],
   "source": [
    "# Choosing between multiple options using nested decisions\n",
    "def SecretNumber():\n",
    "    One = int(input(\"Type a number between 1 and 10: \"))\n",
    "    Two = int(input(\"Type a number between 1 and 10: \"))\n",
    "    \n",
    "    if (One >= 1) and (One <= 10):\n",
    "        if (Two >= 1) and (Two <= 10):\n",
    "            print('Your secret number is: ' + str(One * Two))\n",
    "        else:\n",
    "            print(\"Incorrect second value!\")\n",
    "    else:\n",
    "        print(\"Incorrect first value!\")"
   ]
  },
  {
   "cell_type": "code",
   "execution_count": 77,
   "id": "592d6cf7-30b6-4e6f-9878-b910e459ef5b",
   "metadata": {},
   "outputs": [
    {
     "name": "stdin",
     "output_type": "stream",
     "text": [
      "Type a number between 1 and 10:  3\n",
      "Type a number between 1 and 10:  43\n"
     ]
    },
    {
     "name": "stdout",
     "output_type": "stream",
     "text": [
      "Incorrect second value!\n"
     ]
    }
   ],
   "source": [
    "SecretNumber()"
   ]
  },
  {
   "cell_type": "code",
   "execution_count": 78,
   "id": "3d9a660d-1ad5-48ab-813d-b006be576b34",
   "metadata": {},
   "outputs": [
    {
     "name": "stdin",
     "output_type": "stream",
     "text": [
      "Type a number between 1 and 10:  7\n",
      "Type a number between 1 and 10:  8\n"
     ]
    },
    {
     "name": "stdout",
     "output_type": "stream",
     "text": [
      "Your secret number is: 56\n"
     ]
    }
   ],
   "source": [
    "SecretNumber()"
   ]
  },
  {
   "cell_type": "code",
   "execution_count": 79,
   "id": "b91c2649-dec5-4665-9aff-6525b3c8a386",
   "metadata": {},
   "outputs": [],
   "source": [
    "# Performing repetitive tasks using for\n",
    "def DisplayMulti(*VarArgs):\n",
    "    for Arg in VarArgs:\n",
    "        if Arg.upper() == 'CONT':\n",
    "            continue\n",
    "            print('Continue Argument: ' + Arg)\n",
    "        elif Arg.upper() == 'BREAK':\n",
    "            break\n",
    "            print('Break Argument: ' + Arg)\n",
    "        print('Good Argument: ' + Arg)"
   ]
  },
  {
   "cell_type": "code",
   "execution_count": 80,
   "id": "b25e7512-f824-41d1-b2fb-277e2a9f9f85",
   "metadata": {},
   "outputs": [
    {
     "name": "stdout",
     "output_type": "stream",
     "text": [
      "Good Argument: Hello\n",
      "Good Argument: Goodbye\n",
      "Good Argument: First\n",
      "Good Argument: Last\n"
     ]
    }
   ],
   "source": [
    "DisplayMulti('Hello', 'Goodbye', 'First', 'Last')"
   ]
  },
  {
   "cell_type": "code",
   "execution_count": 81,
   "id": "7a57d2e7-f505-4511-8009-ec637dfd7f44",
   "metadata": {},
   "outputs": [],
   "source": [
    "#using the while statement\n",
    "def SecretNumber():\n",
    "    GotIt = False\n",
    "    while GotIt == False:\n",
    "        One = int(input(\"Type a number between 1 and 10: \"))\n",
    "        Two = int(input(\"Type a number between 1 and 10: \"))\n",
    "    \n",
    "        if (One >= 1) and (One <= 10):\n",
    "            if (Two >= 1) and (Two <= 10):\n",
    "                print('Your secret number is: ' + str(One * Two))\n",
    "                GotIt = True\n",
    "                continue\n",
    "            else:\n",
    "                print(\"Incorrect second value!\")\n",
    "        else:\n",
    "            print(\"Incorrect first value!\")\n",
    "        print(\"Try again!\")\n",
    "        "
   ]
  },
  {
   "cell_type": "code",
   "execution_count": 83,
   "id": "633f4ac7-88c0-45df-ad95-276b86897e0c",
   "metadata": {},
   "outputs": [
    {
     "name": "stdin",
     "output_type": "stream",
     "text": [
      "Type a number between 1 and 10:  43\n",
      "Type a number between 1 and 10:  5\n"
     ]
    },
    {
     "name": "stdout",
     "output_type": "stream",
     "text": [
      "Incorrect first value!\n",
      "Try again!\n"
     ]
    },
    {
     "name": "stdin",
     "output_type": "stream",
     "text": [
      "Type a number between 1 and 10:  4\n",
      "Type a number between 1 and 10:  67\n"
     ]
    },
    {
     "name": "stdout",
     "output_type": "stream",
     "text": [
      "Incorrect second value!\n",
      "Try again!\n"
     ]
    },
    {
     "name": "stdin",
     "output_type": "stream",
     "text": [
      "Type a number between 1 and 10:  7\n",
      "Type a number between 1 and 10:  8\n"
     ]
    },
    {
     "name": "stdout",
     "output_type": "stream",
     "text": [
      "Your secret number is: 56\n"
     ]
    }
   ],
   "source": [
    "SecretNumber()"
   ]
  },
  {
   "cell_type": "code",
   "execution_count": 90,
   "id": "1e92f846-482f-4963-abd7-7c488cee698c",
   "metadata": {},
   "outputs": [],
   "source": [
    "SetA = set(['Red', 'Blue', 'Green', 'Black'])\n",
    "SetB = set(['Black', 'Green', 'Yellow', 'Orange'])"
   ]
  },
  {
   "cell_type": "code",
   "execution_count": 103,
   "id": "e5bfdd61-76c2-454a-a83d-4d5d55e04368",
   "metadata": {},
   "outputs": [],
   "source": [
    "SetX = SetA.union(SetB)\n",
    "SetY = SetA.intersection(SetB)\n",
    "SetZ = SetA.difference(SetB)\n",
    "SetQ = SetB.difference(SetA)"
   ]
  },
  {
   "cell_type": "code",
   "execution_count": 105,
   "id": "ad0222c8-2cb5-47b4-b590-776e73509b68",
   "metadata": {},
   "outputs": [
    {
     "name": "stdout",
     "output_type": "stream",
     "text": [
      "{'Blue', 'Black', 'Yellow', 'Orange', 'Red', 'Green'}\n",
      "{'Black', 'Green'}\n",
      "{'Blue', 'Red'}\n",
      "{'Yellow', 'Orange'}\n"
     ]
    }
   ],
   "source": [
    "print (SetX)\n",
    "print (SetY) \n",
    "print (SetZ)\n",
    "print (SetQ)"
   ]
  },
  {
   "cell_type": "code",
   "execution_count": 111,
   "id": "5728d9ec-6262-4c41-ad1e-db70835110e4",
   "metadata": {},
   "outputs": [
    {
     "data": {
      "text/plain": [
       "[0, 1, 2, 3, 4, 5, 6, 7]"
      ]
     },
     "execution_count": 111,
     "metadata": {},
     "output_type": "execute_result"
    }
   ],
   "source": [
    "ListA = [0, 1, 2, 3]\n",
    "ListB = [4, 5, 6, 7]\n",
    "ListA.extend(ListB)\n",
    "ListA"
   ]
  },
  {
   "cell_type": "code",
   "execution_count": 112,
   "id": "0abdc495-55a2-43e2-bfb5-cb53e3e1ba77",
   "metadata": {},
   "outputs": [],
   "source": [
    "ListA.append(-5)"
   ]
  },
  {
   "cell_type": "code",
   "execution_count": 113,
   "id": "6f9ce5d5-6237-4064-9dbd-4f17adaf0810",
   "metadata": {},
   "outputs": [
    {
     "data": {
      "text/plain": [
       "[0, 1, 2, 3, 4, 5, 6, 7, -5]"
      ]
     },
     "execution_count": 113,
     "metadata": {},
     "output_type": "execute_result"
    }
   ],
   "source": [
    "ListA"
   ]
  },
  {
   "cell_type": "code",
   "execution_count": 115,
   "id": "fe872aa5-a39e-43fc-bd29-08772480db40",
   "metadata": {},
   "outputs": [
    {
     "data": {
      "text/plain": [
       "[0, 1, 2, 3, 4, 5, 6, 7]"
      ]
     },
     "execution_count": 115,
     "metadata": {},
     "output_type": "execute_result"
    }
   ],
   "source": [
    "ListA.remove(-5)\n",
    "ListA"
   ]
  },
  {
   "cell_type": "code",
   "execution_count": 116,
   "id": "65cc9068-ccf3-448e-8508-e869fe1040eb",
   "metadata": {},
   "outputs": [
    {
     "data": {
      "text/plain": [
       "[0, 1, 2, 3, 4, 5, 6, 7, 4, 5, 6, 7]"
      ]
     },
     "execution_count": 116,
     "metadata": {},
     "output_type": "execute_result"
    }
   ],
   "source": [
    "ListX = ListA + ListB\n",
    "ListX"
   ]
  },
  {
   "cell_type": "code",
   "execution_count": 122,
   "id": "8f0231aa-be1b-46ad-9b8a-b6d8fc379b3f",
   "metadata": {},
   "outputs": [
    {
     "data": {
      "text/plain": [
       "(1, 2, 3, (4, 5, 6, (7, 8, 9)))"
      ]
     },
     "execution_count": 122,
     "metadata": {},
     "output_type": "execute_result"
    }
   ],
   "source": [
    "# Working with tuples - are immutable\n",
    "MyTuple = (1, 2, 3, (4, 5, 6, (7, 8, 9)))\n",
    "MyTuple"
   ]
  },
  {
   "cell_type": "code",
   "execution_count": 121,
   "id": "87158b05-6e74-454e-9f0f-c95090d780db",
   "metadata": {},
   "outputs": [
    {
     "name": "stdout",
     "output_type": "stream",
     "text": [
      "1\n",
      "2\n",
      "3\n",
      "\t 4\n",
      "\t 5\n",
      "\t 6\n",
      "\t\t 7\n",
      "\t\t 8\n",
      "\t\t 9\n"
     ]
    }
   ],
   "source": [
    "for Value1 in MyTuple:\n",
    "    if type(Value1) == int:\n",
    "        print (Value1)\n",
    "    else:\n",
    "        for Value2 in Value1:\n",
    "            if type(Value2) == int:\n",
    "                print (\"\\t\", Value2)\n",
    "            else:\n",
    "                for Value3 in Value2:\n",
    "                    print (\"\\t\\t\", Value3)"
   ]
  },
  {
   "cell_type": "code",
   "execution_count": 123,
   "id": "14d5f102-a38b-4a40-9e24-03cefa1db012",
   "metadata": {},
   "outputs": [
    {
     "data": {
      "text/plain": [
       "(1, 2, 3, (4, 5, 6, (7, 8, 9)), 10, 11, 12, (13, 14, 15))"
      ]
     },
     "execution_count": 123,
     "metadata": {},
     "output_type": "execute_result"
    }
   ],
   "source": [
    "MyNewTuple = MyTuple.__add__((10, 11, 12, (13, 14, 15)))\n",
    "MyNewTuple"
   ]
  },
  {
   "cell_type": "code",
   "execution_count": 124,
   "id": "9289585d-451b-47d7-abcb-8ea53a3333e7",
   "metadata": {},
   "outputs": [
    {
     "name": "stdout",
     "output_type": "stream",
     "text": [
      "1\n",
      "2\n",
      "3\n",
      "\t 4\n",
      "\t 5\n",
      "\t 6\n",
      "\t\t 7\n",
      "\t\t 8\n",
      "\t\t 9\n",
      "10\n",
      "11\n",
      "12\n",
      "\t 13\n",
      "\t 14\n",
      "\t 15\n"
     ]
    }
   ],
   "source": [
    "for Value1 in MyNewTuple:\n",
    "    if type(Value1) == int:\n",
    "        print (Value1)\n",
    "    else:\n",
    "        for Value2 in Value1:\n",
    "            if type(Value2) == int:\n",
    "                print (\"\\t\", Value2)\n",
    "            else:\n",
    "                for Value3 in Value2:\n",
    "                    print (\"\\t\\t\", Value3)"
   ]
  },
  {
   "cell_type": "code",
   "execution_count": 128,
   "id": "4d9137eb-befc-46c3-af8e-b978ed2631a1",
   "metadata": {},
   "outputs": [],
   "source": [
    "# Defining useful Iterators\n",
    "ListA = ['Orange', 'Yellow', 'Green', 'Brown']\n",
    "ListB = [1, 2, 3, 4]"
   ]
  },
  {
   "cell_type": "code",
   "execution_count": 129,
   "id": "2bab930a-bef9-49e1-9696-e5ab5dc86def",
   "metadata": {},
   "outputs": [
    {
     "name": "stdout",
     "output_type": "stream",
     "text": [
      "2\n",
      "3\n"
     ]
    }
   ],
   "source": [
    "for Value in ListB[1:3]:\n",
    "    print (Value)"
   ]
  },
  {
   "cell_type": "code",
   "execution_count": 130,
   "id": "4ae8ca22-7024-4133-94bc-c9c323a3a61b",
   "metadata": {},
   "outputs": [
    {
     "name": "stdout",
     "output_type": "stream",
     "text": [
      "Orange \t 1\n",
      "Yellow \t 2\n",
      "Green \t 3\n",
      "Brown \t 4\n"
     ]
    }
   ],
   "source": [
    "for Value1, Value2 in zip(ListA, ListB):\n",
    "    print (Value1, '\\t', Value2)"
   ]
  },
  {
   "cell_type": "code",
   "execution_count": 133,
   "id": "d08de377-e6de-420e-9ec1-4399cb329ce6",
   "metadata": {},
   "outputs": [
    {
     "data": {
      "text/plain": [
       "{'Orange': 1, 'Blue': 2, 'Pink': 3}"
      ]
     },
     "execution_count": 133,
     "metadata": {},
     "output_type": "execute_result"
    }
   ],
   "source": [
    "# Indexing data using Dictionaries\n",
    "MyDict = {'Orange':1, 'Blue':2,'Pink':3} \n",
    "MyDict"
   ]
  },
  {
   "cell_type": "code",
   "execution_count": 136,
   "id": "f250b6e5-e58a-4b26-a8a7-d8acb7b25dd1",
   "metadata": {},
   "outputs": [
    {
     "data": {
      "text/plain": [
       "1"
      ]
     },
     "execution_count": 136,
     "metadata": {},
     "output_type": "execute_result"
    }
   ],
   "source": [
    "MyDict['Orange']"
   ]
  }
 ],
 "metadata": {
  "kernelspec": {
   "display_name": "Python 3 (ipykernel)",
   "language": "python",
   "name": "python3"
  },
  "language_info": {
   "codemirror_mode": {
    "name": "ipython",
    "version": 3
   },
   "file_extension": ".py",
   "mimetype": "text/x-python",
   "name": "python",
   "nbconvert_exporter": "python",
   "pygments_lexer": "ipython3",
   "version": "3.9.12"
  }
 },
 "nbformat": 4,
 "nbformat_minor": 5
}

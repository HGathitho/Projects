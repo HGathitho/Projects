{
 "cells": [
  {
   "cell_type": "markdown",
   "id": "618ef3bd-8e36-4441-92c7-8e242a01d015",
   "metadata": {},
   "source": [
    "# making_decisions_with_if"
   ]
  },
  {
   "cell_type": "code",
   "execution_count": 2,
   "id": "fb2e978e-2bf4-4f52-96c4-036662e3b501",
   "metadata": {},
   "outputs": [
    {
     "name": "stdout",
     "output_type": "stream",
     "text": [
      "Please carry an umbrella\n",
      "It is raining today\n"
     ]
    }
   ],
   "source": [
    "weather = \"rainy\"\n",
    "if weather == \"rainy\":\n",
    "    print(\"Please carry an umbrella\")\n",
    "print(\"It is raining today\")"
   ]
  },
  {
   "cell_type": "code",
   "execution_count": 3,
   "id": "5c6ec2bd-69d1-4f5c-872e-5a65a3b95f23",
   "metadata": {},
   "outputs": [
    {
     "name": "stdout",
     "output_type": "stream",
     "text": [
      "Goodnight\n"
     ]
    }
   ],
   "source": [
    "sun = \"down\"\n",
    "if sun == \"down\":\n",
    "    print(\"Goodnight\")"
   ]
  },
  {
   "cell_type": "code",
   "execution_count": 6,
   "id": "e1307e08-479d-4a01-9541-4d8ba0db06ae",
   "metadata": {},
   "outputs": [
    {
     "name": "stdout",
     "output_type": "stream",
     "text": [
      "Morning time, wake up\n"
     ]
    }
   ],
   "source": [
    "sun = \"up\"\n",
    "if sun == \"down\":\n",
    "    print(\"Goodnight\")\n",
    "else:\n",
    "    print(\"Morning time, wake up\")"
   ]
  },
  {
   "cell_type": "code",
   "execution_count": 10,
   "id": "1727a345-f1f2-41a7-8b37-9b40d8b77c67",
   "metadata": {},
   "outputs": [
    {
     "name": "stdout",
     "output_type": "stream",
     "text": [
      "Subtotal : $100.00\n",
      "Sales Tax: $6.50\n",
      "Total : $106.50\n"
     ]
    }
   ],
   "source": [
    "total = 100\n",
    "sales_tax_rate = 0.065\n",
    "taxable = True\n",
    "if taxable:\n",
    "    print(f\"Subtotal : ${total:.2f}\")\n",
    "    sales_tax = total * sales_tax_rate\n",
    "    print(f\"Sales Tax: ${sales_tax:.2f}\")\n",
    "    total = total + sales_tax\n",
    "print(f\"Total : ${total:.2f}\")"
   ]
  },
  {
   "cell_type": "code",
   "execution_count": 12,
   "id": "3194fd49-f654-4a0b-bcac-c8583839d9be",
   "metadata": {},
   "outputs": [
    {
     "name": "stdout",
     "output_type": "stream",
     "text": [
      "Total : $100.00\n"
     ]
    }
   ],
   "source": [
    "total = 100\n",
    "sales_tax_rate = 0.065\n",
    "taxable == False\n",
    "if taxable:\n",
    "    print(f\"Subtotal : ${total:.2f}\")\n",
    "    sales_tax = total * sales_tax_rate\n",
    "    print(f\"Sales Tax: ${sales_tax:.2f}\")\n",
    "    total = total + sales_tax\n",
    "print(f\"Total : ${total:.2f}\")"
   ]
  },
  {
   "cell_type": "code",
   "execution_count": 13,
   "id": "68801f26-54f9-4fcc-9eda-cfc6cbc5707d",
   "metadata": {},
   "outputs": [
    {
     "name": "stdout",
     "output_type": "stream",
     "text": [
      "Good Afternoon\n"
     ]
    }
   ],
   "source": [
    "### Adding else\n",
    "import datetime as dt\n",
    "\n",
    "# Get the current date and time\n",
    "now = dt.datetime.now()\n",
    "\n",
    "# Make a decision based on hour\n",
    "if now.hour < 12:\n",
    "    print(\"Good Morning\")\n",
    "else:\n",
    "    print(\"Good Afternoon\")"
   ]
  },
  {
   "cell_type": "code",
   "execution_count": 14,
   "id": "0b98b576-5834-4e39-864c-15e2f3f9a2f0",
   "metadata": {},
   "outputs": [
    {
     "name": "stdout",
     "output_type": "stream",
     "text": [
      "Go\n",
      "This code executes no matter what\n"
     ]
    }
   ],
   "source": [
    "light_color = \"green\"\n",
    "if light_color == \"green\":\n",
    "    print(\"Go\")\n",
    "elif light_color == \"red\":\n",
    "    print(\"Stop\")\n",
    "print(\"This code executes no matter what\")"
   ]
  },
  {
   "cell_type": "code",
   "execution_count": 15,
   "id": "1c17b1b4-11cc-4064-ae96-6093dda33c02",
   "metadata": {},
   "outputs": [
    {
     "name": "stdout",
     "output_type": "stream",
     "text": [
      "Stop\n",
      "This code executes no matter what\n"
     ]
    }
   ],
   "source": [
    "light_color = \"red\"\n",
    "if light_color == \"green\":\n",
    "    print(\"Go\")\n",
    "elif light_color == \"red\":\n",
    "    print(\"Stop\")\n",
    "print(\"This code executes no matter what\")"
   ]
  },
  {
   "cell_type": "code",
   "execution_count": 17,
   "id": "8ae61ddd-c4e7-431b-989d-c49960abacf0",
   "metadata": {},
   "outputs": [
    {
     "name": "stdout",
     "output_type": "stream",
     "text": [
      "Proceed with caution\n",
      "This code executes no matter what\n"
     ]
    }
   ],
   "source": [
    "light_color = \"yellow\"\n",
    "if light_color == \"green\":\n",
    "    print(\"Go\")\n",
    "elif light_color == \"red\":\n",
    "    print(\"Stop\")\n",
    "else:\n",
    "    print(\"Proceed with caution\")\n",
    "print(\"This code executes no matter what\")"
   ]
  },
  {
   "cell_type": "code",
   "execution_count": 22,
   "id": "1beb5c93-b44a-4c67-9268-997f241d0de5",
   "metadata": {},
   "outputs": [
    {
     "name": "stdin",
     "output_type": "stream",
     "text": [
      "Kindly input your age 88\n"
     ]
    },
    {
     "name": "stdout",
     "output_type": "stream",
     "text": [
      "Have prune juice\n"
     ]
    }
   ],
   "source": [
    "age = int(input(\"Kindly input your age\"))\n",
    "if age < 21:\n",
    "    beverage = \"milk\"\n",
    "elif age >= 21 and age < 80:\n",
    "    beverage = \"beer\"\n",
    "else:\n",
    "    beverage = \"prune juice\"\n",
    "print(\"Have \" + beverage)"
   ]
  },
  {
   "cell_type": "markdown",
   "id": "52e48913-0021-411a-a5df-6347dfefd1bb",
   "metadata": {},
   "source": [
    "# Repeating a Process with for"
   ]
  },
  {
   "cell_type": "code",
   "execution_count": 25,
   "id": "6c7e3a87-5014-45e7-8182-93fcf707de4d",
   "metadata": {},
   "outputs": [
    {
     "name": "stdout",
     "output_type": "stream",
     "text": [
      "2\n",
      "3\n",
      "4\n",
      "5\n",
      "6\n",
      "7\n",
      "Done\n"
     ]
    }
   ],
   "source": [
    "for x in range(2, 8):\n",
    "    print(x)\n",
    "print(\"Done\")"
   ]
  },
  {
   "cell_type": "code",
   "execution_count": 26,
   "id": "f7aa3d28-4870-41fc-beaf-18becec8e586",
   "metadata": {},
   "outputs": [
    {
     "name": "stdout",
     "output_type": "stream",
     "text": [
      "1\n",
      "2\n",
      "3\n",
      "4\n",
      "5\n",
      "6\n",
      "7\n",
      "8\n",
      "9\n",
      "10\n"
     ]
    }
   ],
   "source": [
    "### Print numbers 1 to 10\n",
    "for x in range(1, 11):\n",
    "    print(x)"
   ]
  },
  {
   "cell_type": "markdown",
   "id": "2b4464a6-06f6-4eef-be56-f74c16a97f23",
   "metadata": {},
   "source": [
    "### Looping through a string"
   ]
  },
  {
   "cell_type": "code",
   "execution_count": 27,
   "id": "123b820e-0a63-4b17-8398-62cb5731d068",
   "metadata": {},
   "outputs": [
    {
     "name": "stdout",
     "output_type": "stream",
     "text": [
      "K\n",
      "e\n",
      "n\n",
      "y\n",
      "a\n"
     ]
    }
   ],
   "source": [
    "for x in \"Kenya\":\n",
    "    print(x)"
   ]
  },
  {
   "cell_type": "code",
   "execution_count": 28,
   "id": "8be5d7de-12ae-404a-9872-59c3158949be",
   "metadata": {},
   "outputs": [
    {
     "name": "stdout",
     "output_type": "stream",
     "text": [
      "K\n",
      "e\n",
      "n\n",
      "y\n",
      "a\n"
     ]
    }
   ],
   "source": [
    "country = \"Kenya\"\n",
    "for x in country:\n",
    "    print(x)"
   ]
  },
  {
   "cell_type": "markdown",
   "id": "b8f53a97-28c1-4930-80f3-5405fb16230c",
   "metadata": {},
   "source": [
    "### Looping through a list"
   ]
  },
  {
   "cell_type": "code",
   "execution_count": 29,
   "id": "85087a0d-5a36-4d0f-be08-9ed8c263efb7",
   "metadata": {},
   "outputs": [
    {
     "name": "stdout",
     "output_type": "stream",
     "text": [
      "cats\n",
      "rabbits\n",
      "dogs\n"
     ]
    }
   ],
   "source": [
    "for x in ['cats', 'rabbits', 'dogs']:\n",
    "    print(x)"
   ]
  },
  {
   "cell_type": "code",
   "execution_count": 38,
   "id": "ffa05eb5-45c7-42aa-af32-726c667e0359",
   "metadata": {},
   "outputs": [
    {
     "name": "stdout",
     "output_type": "stream",
     "text": [
      "cats\n",
      "dogs\n",
      "horse\n",
      "rabbit\n"
     ]
    }
   ],
   "source": [
    "### Looping by assigning the list to a variable\n",
    "pets = ['cats', 'dogs', 'horse', 'rabbit']\n",
    "for animal in pets:\n",
    "    print (animal)"
   ]
  },
  {
   "cell_type": "markdown",
   "id": "19fcf1f3-ebb8-435d-b678-4dbbd16eec64",
   "metadata": {},
   "source": [
    "#### Using break in a loop"
   ]
  },
  {
   "cell_type": "code",
   "execution_count": 39,
   "id": "10dbeab6-9528-45de-b3ce-c18cbff68b7d",
   "metadata": {},
   "outputs": [
    {
     "name": "stdout",
     "output_type": "stream",
     "text": [
      "cats\n",
      "dogs\n",
      "Zebra is not a pet but a wild animal\n"
     ]
    }
   ],
   "source": [
    "pets = ['cats', 'dogs', 'zebra','horses', 'rabbits']\n",
    "for animal in pets:\n",
    "    if animal == \"zebra\":\n",
    "        print(\"Zebra is not a pet but a wild animal\")\n",
    "        break\n",
    "    print (animal)"
   ]
  },
  {
   "cell_type": "markdown",
   "id": "860767c4-e4a3-4ad7-b574-9bdaa861ea33",
   "metadata": {},
   "source": [
    "#### Looping with continue"
   ]
  },
  {
   "cell_type": "code",
   "execution_count": 40,
   "id": "fd8b6918-e544-41cb-a96e-03350e1d30fe",
   "metadata": {},
   "outputs": [
    {
     "name": "stdout",
     "output_type": "stream",
     "text": [
      "cats\n",
      "dogs\n",
      "Zebra is not a pet but a wild animal\n",
      "horses\n",
      "rabbits\n"
     ]
    }
   ],
   "source": [
    "pets = ['cats', 'dogs', 'zebra','horses', 'rabbits']\n",
    "for animal in pets:\n",
    "    if animal == \"zebra\":\n",
    "        print(\"Zebra is not a pet but a wild animal\")\n",
    "        continue\n",
    "    print (animal)"
   ]
  },
  {
   "cell_type": "markdown",
   "id": "8d7487fb-97bc-4c7c-a255-209cec19ceb0",
   "metadata": {},
   "source": [
    "#### Nesting loops"
   ]
  },
  {
   "cell_type": "code",
   "execution_count": 42,
   "id": "37d7d809-01d1-40b3-86e8-f61fe58fd66a",
   "metadata": {},
   "outputs": [
    {
     "name": "stdout",
     "output_type": "stream",
     "text": [
      "First\n",
      "Second\n",
      "Third\n"
     ]
    }
   ],
   "source": [
    "# Outer Loop\n",
    "for outer in [\"First\", \"Second\", \"Third\"]:\n",
    "    print(outer)"
   ]
  },
  {
   "cell_type": "code",
   "execution_count": 46,
   "id": "06035ccf-9983-404f-9dba-5294ba00de71",
   "metadata": {},
   "outputs": [
    {
     "name": "stdout",
     "output_type": "stream",
     "text": [
      "1\n",
      "2\n",
      "3\n"
     ]
    }
   ],
   "source": [
    "# Inner Loop\n",
    "for inner in range(3):\n",
    "    print(inner + 1)"
   ]
  },
  {
   "cell_type": "code",
   "execution_count": 44,
   "id": "911cb04e-bcc5-4706-bb96-36cbd22c5cbd",
   "metadata": {},
   "outputs": [
    {
     "name": "stdout",
     "output_type": "stream",
     "text": [
      "First\n",
      "1\n",
      "2\n",
      "3\n",
      "Second\n",
      "1\n",
      "2\n",
      "3\n",
      "Third\n",
      "1\n",
      "2\n",
      "3\n"
     ]
    }
   ],
   "source": [
    "# Nesting the inner loop inside the outer loop\n",
    "\n",
    "# Outer Loop\n",
    "for outer in [\"First\", \"Second\", \"Third\"]:\n",
    "    print(outer)\n",
    "    #Inner Loop\n",
    "    for inner in range(3):\n",
    "        print(inner + 1)\n",
    "    "
   ]
  },
  {
   "cell_type": "markdown",
   "id": "baf2aa16-11ca-4d36-a8e4-58a4ef53a756",
   "metadata": {},
   "source": [
    "### Looping with while"
   ]
  },
  {
   "cell_type": "code",
   "execution_count": 50,
   "id": "6bbdfd0c-8c19-405e-a851-197a6678d77e",
   "metadata": {},
   "outputs": [
    {
     "name": "stdout",
     "output_type": "stream",
     "text": [
      "65=A\n",
      "66=B\n",
      "67=C\n",
      "68=D\n",
      "69=E\n",
      "70=F\n",
      "71=G\n",
      "72=H\n",
      "73=I\n",
      "74=J\n",
      "75=K\n",
      "76=L\n",
      "77=M\n",
      "78=N\n",
      "79=O\n",
      "80=P\n",
      "81=Q\n",
      "82=R\n",
      "83=S\n",
      "84=T\n",
      "85=U\n",
      "86=V\n",
      "87=W\n",
      "88=X\n",
      "89=Y\n",
      "90=Z\n"
     ]
    }
   ],
   "source": [
    "counter= 65\n",
    "while counter < 91:\n",
    "    print(str(counter) + \"=\" + chr(counter))\n",
    "    counter += 1"
   ]
  },
  {
   "cell_type": "markdown",
   "id": "7419ba19-f452-4d7e-ab4c-e1510771031a",
   "metadata": {},
   "source": [
    "### Starting while loops with continue"
   ]
  },
  {
   "cell_type": "code",
   "execution_count": 54,
   "id": "8be8c241-1233-4727-9bf2-0ef80d292931",
   "metadata": {},
   "outputs": [
    {
     "name": "stdout",
     "output_type": "stream",
     "text": [
      "Odd numbers\n",
      "733\n",
      "405\n",
      "243\n",
      "965\n",
      "235\n",
      "643\n",
      "923\n",
      "139\n",
      "833\n",
      "957\n"
     ]
    }
   ],
   "source": [
    "import random\n",
    "print(\"Odd numbers\")\n",
    "counter = 0\n",
    "while counter < 10:\n",
    "    # Get a random number\n",
    "    number = random.randint(1,999)\n",
    "    if int(number/2) == number/2:\n",
    "        #If it's an even number, don't print it.\n",
    "        continue\n",
    "    # Otherwisem if it's odd, print it and increment the counter.\n",
    "    print(number)\n",
    "    # Increment the loop counter\n",
    "    counter += 1"
   ]
  },
  {
   "cell_type": "code",
   "execution_count": null,
   "id": "ea58c209-86a4-4117-873e-24ab943bd481",
   "metadata": {},
   "outputs": [],
   "source": [
    "### Breaking while loops with break"
   ]
  },
  {
   "cell_type": "code",
   "execution_count": 66,
   "id": "43bf59a8-3936-4bf0-afef-55bcfbbb6427",
   "metadata": {},
   "outputs": [
    {
     "name": "stdout",
     "output_type": "stream",
     "text": [
      "Numbers that aren't evenly divisible by 5\n",
      "81\n",
      "314\n"
     ]
    }
   ],
   "source": [
    "import random\n",
    "print(\"Numbers that aren't evenly divisible by 5\")\n",
    "counter = 0\n",
    "while counter < 10:\n",
    "    # Get a random number\n",
    "    number = random.randint(1,999)\n",
    "    if int(number/5) == number/5:\n",
    "        #If it's evenly divisible by 5, bail out.\n",
    "        break\n",
    "    # Otherwise , print it and keep going for a whilee.\n",
    "    print(number)\n",
    "    # Increment the loop counter\n",
    "    counter += 1"
   ]
  },
  {
   "cell_type": "code",
   "execution_count": 72,
   "id": "bd5391d0-a965-4c08-96a8-dd668366a27f",
   "metadata": {
    "tags": []
   },
   "outputs": [
    {
     "name": "stdout",
     "output_type": "stream",
     "text": [
      "Numbers that are evenly divisible by 5\n",
      "500\n",
      "405\n",
      "770\n",
      "840\n"
     ]
    }
   ],
   "source": [
    "import random\n",
    "print(\"Numbers that are evenly divisible by 5\")\n",
    "counter = 0\n",
    "while counter < 10:\n",
    "    # Get a random number\n",
    "    number = random.randint(1,999)\n",
    "    if int(number/5) == number/5:\n",
    "        print(number)\n",
    "    \n",
    "    # Increment the loop Counter\n",
    "    counter += 1"
   ]
  },
  {
   "cell_type": "code",
   "execution_count": null,
   "id": "bee71513-aeca-43f8-b284-7e14ecb9a437",
   "metadata": {},
   "outputs": [],
   "source": [
    "\n"
   ]
  }
 ],
 "metadata": {
  "kernelspec": {
   "display_name": "Python 3 (ipykernel)",
   "language": "python",
   "name": "python3"
  },
  "language_info": {
   "codemirror_mode": {
    "name": "ipython",
    "version": 3
   },
   "file_extension": ".py",
   "mimetype": "text/x-python",
   "name": "python",
   "nbconvert_exporter": "python",
   "pygments_lexer": "ipython3",
   "version": "3.9.12"
  }
 },
 "nbformat": 4,
 "nbformat_minor": 5
}

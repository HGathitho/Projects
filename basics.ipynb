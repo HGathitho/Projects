{
 "cells": [
  {
   "cell_type": "code",
   "execution_count": 1,
   "id": "3c0f75d7-fc9f-42af-82be-ea5d760dcac5",
   "metadata": {},
   "outputs": [
    {
     "name": "stdout",
     "output_type": "stream",
     "text": [
      "9.0\n"
     ]
    }
   ],
   "source": [
    "import math\n",
    "z = 81\n",
    "print(math.sqrt(z))"
   ]
  },
  {
   "cell_type": "markdown",
   "id": "1bcc86b7-2b6b-4d87-9062-ff685c2a7997",
   "metadata": {},
   "source": [
    "### Formating with f-strings"
   ]
  },
  {
   "cell_type": "code",
   "execution_count": 3,
   "id": "9e8c91f5-077b-4dc4-b46a-079ee5dcc753",
   "metadata": {},
   "outputs": [
    {
     "name": "stdout",
     "output_type": "stream",
     "text": [
      "Hello Mr.Harrtedwin\n"
     ]
    }
   ],
   "source": [
    "\n",
    "username=\"Harrtedwin\"\n",
    "print(f\"Hello Mr.{username}\")"
   ]
  },
  {
   "cell_type": "code",
   "execution_count": 21,
   "id": "d7cbe3f8-fd4f-4dc1-9fd2-33278ac7b575",
   "metadata": {},
   "outputs": [
    {
     "name": "stdout",
     "output_type": "stream",
     "text": [
      "Subtotal: Kes.147017.09999999998\n"
     ]
    }
   ],
   "source": [
    "unit_price = 4900.57\n",
    "quantity = 30\n",
    "print(f\"Subtotal: Kes.{quantity*unit_price}\")"
   ]
  },
  {
   "cell_type": "markdown",
   "id": "f5ef13fa-2571-4e02-9e33-c16fa6097e88",
   "metadata": {},
   "source": [
    "### Showing amounts with commas"
   ]
  },
  {
   "cell_type": "markdown",
   "id": "6a087a5e-fe73-4977-99e6-d7053c41ca77",
   "metadata": {},
   "source": [
    "> To get a comma to show in amount and the pennies to be two digits, you\n",
    "can use a format string inside the curly braces of an expression in an f-string. The\n",
    "format string starts with a colon and needs to be placed inside the closing curly\n",
    "brace, right up against the variable name or the value being shown."
   ]
  },
  {
   "cell_type": "code",
   "execution_count": 22,
   "id": "e88dc27e-6506-4aec-bd8f-a1c676657726",
   "metadata": {},
   "outputs": [
    {
     "name": "stdout",
     "output_type": "stream",
     "text": [
      "Subtotal: Kes.147,017.09999999998\n"
     ]
    }
   ],
   "source": [
    "print(f\"Subtotal: Kes.{quantity*unit_price:,}\")"
   ]
  },
  {
   "cell_type": "code",
   "execution_count": 23,
   "id": "a9a1a4af-35ef-4a63-8a44-adc4fe69908b",
   "metadata": {},
   "outputs": [
    {
     "name": "stdout",
     "output_type": "stream",
     "text": [
      "Subtotal: Kes.147,017.10\n"
     ]
    }
   ],
   "source": [
    "# To get the pennies to show as thow digits, follow comma with .2f\n",
    "print(f\"Subtotal: Kes.{quantity*unit_price:,.2f}\")"
   ]
  },
  {
   "cell_type": "markdown",
   "id": "629a256d-85a5-4c0e-9144-515bc70a9f4b",
   "metadata": {},
   "source": [
    "#### Formatting percent numbers"
   ]
  },
  {
   "cell_type": "code",
   "execution_count": 25,
   "id": "cf037217-4556-4e97-9fc0-8c43d68e999d",
   "metadata": {},
   "outputs": [
    {
     "name": "stdout",
     "output_type": "stream",
     "text": [
      "Sales Tax Rate = 0.065\n"
     ]
    }
   ],
   "source": [
    "# We have a sales_tax_rate that is equivalent to 6.5%\n",
    "sales_tax_rate = 0.065\n",
    "print(f\"Sales Tax Rate = {sales_tax_rate}\")"
   ]
  },
  {
   "cell_type": "code",
   "execution_count": 26,
   "id": "8ff6920f-2dc7-49a0-b5c9-584519c607ce",
   "metadata": {},
   "outputs": [
    {
     "name": "stdout",
     "output_type": "stream",
     "text": [
      "Sales Tax Rate = 6.50%\n"
     ]
    }
   ],
   "source": [
    "# If we want to print it as a percetage we would use .2% after :\n",
    "print(f\"Sales Tax Rate = {sales_tax_rate:,.2%}\")"
   ]
  },
  {
   "cell_type": "code",
   "execution_count": 30,
   "id": "4f5319db-d961-4ee5-948d-21f9189c4453",
   "metadata": {},
   "outputs": [
    {
     "name": "stdout",
     "output_type": "stream",
     "text": [
      "Sales Tax Rate = 6.5%\n"
     ]
    }
   ],
   "source": [
    "print(f\"Sales Tax Rate = {sales_tax_rate:.1%}\")"
   ]
  },
  {
   "cell_type": "code",
   "execution_count": 32,
   "id": "b38e7f81-7ff6-417f-b120-37454068bd00",
   "metadata": {},
   "outputs": [
    {
     "name": "stdout",
     "output_type": "stream",
     "text": [
      "Sales Tax Rate 6.5%\n",
      "Sales Tax Rate 6.50%\n",
      "Sales Tax Rate 6.500%\n",
      "Sales Tax Rate 6.500000%\n"
     ]
    }
   ],
   "source": [
    "### Different styles for printing\n",
    "sales_tax_rate=0.065\n",
    "sample1 = f'Sales Tax Rate {sales_tax_rate:.1%}'\n",
    "sample2 = f\"Sales Tax Rate {sales_tax_rate:.2%}\"\n",
    "sample3 = f\"\"\"Sales Tax Rate {sales_tax_rate:.3%}\"\"\"\n",
    "sample4 = f'''Sales Tax Rate {sales_tax_rate:%}'''\n",
    "\n",
    "print(sample1)\n",
    "print(sample2)\n",
    "print(sample3)\n",
    "print(sample4)"
   ]
  },
  {
   "cell_type": "markdown",
   "id": "b42f2704-83d2-4d84-8f93-e50e241797d1",
   "metadata": {},
   "source": [
    "### Making Multiline format strings"
   ]
  },
  {
   "cell_type": "code",
   "execution_count": 34,
   "id": "9d7078d7-b44b-45c9-91e4-ad1b178309d7",
   "metadata": {},
   "outputs": [
    {
     "name": "stdout",
     "output_type": "stream",
     "text": [
      "Alberto\n",
      "Babs\n",
      "Carlos\n"
     ]
    }
   ],
   "source": [
    "user1 = \"Alberto\"\n",
    "user2 = \"Babs\"\n",
    "user3 = \"Carlos\"\n",
    "\n",
    "output = f\"{user1}\\n{user2}\\n{user3}\"\n",
    "print(output)"
   ]
  },
  {
   "cell_type": "markdown",
   "id": "34c30386-db06-4835-8d8e-58cf2c3dc622",
   "metadata": {},
   "source": [
    "### Use Triple Quotation Marks\n",
    "#### If you use triple quotation marks around format string then \\n will not be required"
   ]
  },
  {
   "cell_type": "code",
   "execution_count": 41,
   "id": "4f519eba-73f8-472a-a5d5-49e152e23aa9",
   "metadata": {},
   "outputs": [
    {
     "name": "stdout",
     "output_type": "stream",
     "text": [
      "\n",
      "Subtotal: Kes 1,598.40\n",
      "Sales Tax: Kes 103.90\n",
      "Total: Kes 1,702.30\n",
      "\n"
     ]
    }
   ],
   "source": [
    "unit_price = 49.95\n",
    "quantity = 32\n",
    "sales_tax_rate = 0.065\n",
    "subtotal = quantity * unit_price\n",
    "sales_tax = sales_tax_rate * subtotal\n",
    "total = subtotal + sales_tax\n",
    "\n",
    "output = f\"\"\"\n",
    "Subtotal: Kes {subtotal:,.2f}\n",
    "Sales Tax: Kes {sales_tax:,.2f}\n",
    "Total: Kes {total:,.2f}\n",
    "\"\"\"\n",
    "\n",
    "print(output)"
   ]
  },
  {
   "cell_type": "markdown",
   "id": "a934b2a9-ef69-4f7d-a346-0bed709e2869",
   "metadata": {},
   "source": [
    "### Formatting width and alignment"
   ]
  },
  {
   "cell_type": "code",
   "execution_count": 49,
   "id": "ff4c4ca1-84a1-4f83-b102-15c0e3481411",
   "metadata": {},
   "outputs": [
    {
     "name": "stdout",
     "output_type": "stream",
     "text": [
      "\n",
      "Subtotal: $ 1,598.40\n",
      "Sales Tax: $ 103.90\n",
      "Total: $ 1,702.30\n",
      "\n"
     ]
    }
   ],
   "source": [
    "unit_price = 49.95\n",
    "quantity = 32\n",
    "sales_tax_rate = 0.065\n",
    "subtotal = quantity * unit_price\n",
    "sales_tax = sales_tax_rate * subtotal\n",
    "total = subtotal + sales_tax\n",
    "\n",
    "output = f\"\"\"\n",
    "Subtotal: ${subtotal:>9,.2f}\n",
    "Sales Tax: ${sales_tax:>7,.2f}\n",
    "Total: ${total:>9,.2f}\n",
    "\"\"\"\n",
    "\n",
    "print(output)"
   ]
  },
  {
   "cell_type": "code",
   "execution_count": 50,
   "id": "ce10eb39-1b45-44b5-a91f-3c082c96c53c",
   "metadata": {},
   "outputs": [
    {
     "name": "stdout",
     "output_type": "stream",
     "text": [
      "\n",
      "Subtotal: $1,598.40\n",
      "Sales Tax:   $103.90\n",
      "Total: $1,702.30\n",
      "\n"
     ]
    }
   ],
   "source": [
    "unit_price = 49.95\n",
    "quantity = 32\n",
    "sales_tax_rate = 0.065\n",
    "subtotal = quantity * unit_price\n",
    "sales_tax = sales_tax_rate * subtotal\n",
    "total = subtotal + sales_tax\n",
    "\n",
    "#Format amounts to show as string with leading dollar sign\n",
    "s_subtotal = \"$\" + f\"{subtotal:,.2f}\"\n",
    "s_sales_tax = \"$\" + f\"{sales_tax:,.2f}\"\n",
    "s_total = \"$\" + f\"{total:,.2f}\"\n",
    "\n",
    "#Output the string with dollar sign already attached\n",
    "output = f\"\"\"\n",
    "Subtotal: {s_subtotal:>9}\n",
    "Sales Tax: {s_sales_tax:>9}\n",
    "Total: {s_total:>9}\n",
    "\"\"\"\n",
    "\n",
    "print(output)"
   ]
  },
  {
   "cell_type": "code",
   "execution_count": 51,
   "id": "8d7c0363-4a36-4dcb-a83e-c528d8b2b6da",
   "metadata": {},
   "outputs": [
    {
     "name": "stdout",
     "output_type": "stream",
     "text": [
      "0xff\n"
     ]
    }
   ],
   "source": [
    "print(hex(255))"
   ]
  },
  {
   "cell_type": "markdown",
   "id": "357b5e28-0913-4d89-a34b-0180d1a7f279",
   "metadata": {},
   "source": [
    "### Working with complex number"
   ]
  },
  {
   "cell_type": "markdown",
   "id": "465dfa23-921b-4cec-a61a-fdf7271987cd",
   "metadata": {},
   "source": [
    "##### Exampe z = 2-3j"
   ]
  },
  {
   "cell_type": "code",
   "execution_count": 54,
   "id": "be4ec1e3-4b82-4e50-a539-107f20f4c3eb",
   "metadata": {},
   "outputs": [
    {
     "name": "stdout",
     "output_type": "stream",
     "text": [
      "(2-3j)\n"
     ]
    }
   ],
   "source": [
    "z = complex(2,-3)\n",
    "print(z)"
   ]
  },
  {
   "cell_type": "markdown",
   "id": "31990c9a-b75f-47b8-8263-ce594cd3f714",
   "metadata": {},
   "source": [
    "##### Tracking the real and imaginery number"
   ]
  },
  {
   "cell_type": "code",
   "execution_count": 60,
   "id": "59f5de9a-3049-44f6-a879-36f7bc9d6a80",
   "metadata": {},
   "outputs": [
    {
     "name": "stdout",
     "output_type": "stream",
     "text": [
      "Real number is 2.0\n",
      "Imaginary number is -3.0\n"
     ]
    }
   ],
   "source": [
    "print(f\"Real number is {z.real}\")\n",
    "print(f\"Imaginary number is {z.imag}\")"
   ]
  },
  {
   "cell_type": "markdown",
   "id": "4e6fd0e0-71a8-4c71-82d9-241c7de7e91a",
   "metadata": {},
   "source": [
    "### Ucovering Dates and times"
   ]
  },
  {
   "cell_type": "code",
   "execution_count": 70,
   "id": "96605140-6763-43b7-9cbd-e49d59b8a753",
   "metadata": {},
   "outputs": [
    {
     "data": {
      "text/plain": [
       "datetime.datetime"
      ]
     },
     "execution_count": 70,
     "metadata": {},
     "output_type": "execute_result"
    }
   ],
   "source": [
    "### Shows a date consistig of month, day, and year - No time Information\n",
    "import datetime\n",
    "datetime.date\n",
    "### hour, minute,second\n",
    "datetime.time\n",
    "### Single item of data that incudes date,time and optionally timezone info\n",
    "datetime.datetime"
   ]
  },
  {
   "cell_type": "markdown",
   "id": "41e8d4ae-5d7c-4041-879f-710700734456",
   "metadata": {},
   "source": [
    "### Working with dates"
   ]
  },
  {
   "cell_type": "code",
   "execution_count": 79,
   "id": "72a330fe-7741-402a-a29b-64195504bc5c",
   "metadata": {},
   "outputs": [
    {
     "name": "stdout",
     "output_type": "stream",
     "text": [
      "2022-11-21\n"
     ]
    }
   ],
   "source": [
    "### Import datetime module, nivkname as dt\n",
    "import datetime as dt\n",
    "print(dt.date.today())"
   ]
  },
  {
   "cell_type": "code",
   "execution_count": 80,
   "id": "db43f90b-5e2a-4d4b-a5d1-945ea3f460d7",
   "metadata": {},
   "outputs": [
    {
     "name": "stdout",
     "output_type": "stream",
     "text": [
      "2022-11-21 19:37:48.379854\n"
     ]
    }
   ],
   "source": [
    "print(dt.datetime.today())"
   ]
  },
  {
   "cell_type": "code",
   "execution_count": 78,
   "id": "b84b2554-b351-42dc-af26-e7cbc3b0367a",
   "metadata": {},
   "outputs": [
    {
     "name": "stdout",
     "output_type": "stream",
     "text": [
      "2022-12-28\n"
     ]
    }
   ],
   "source": [
    "### Inputing your own date\n",
    "myOwnDate = dt.date(2022,12,28)\n",
    "print(myOwnDate)"
   ]
  },
  {
   "cell_type": "code",
   "execution_count": 82,
   "id": "df940fd7-b7a0-430c-bb6b-06bc2fc2b379",
   "metadata": {},
   "outputs": [
    {
     "name": "stdout",
     "output_type": "stream",
     "text": [
      "The month is 12\n",
      "The Date is 28\n",
      "The Year is 2022\n"
     ]
    }
   ],
   "source": [
    "print(f\"The month is {myOwnDate.month}\")\n",
    "print(f\"The Date is {myOwnDate.day}\")\n",
    "print(f\"The Year is {myOwnDate.year}\")"
   ]
  },
  {
   "cell_type": "code",
   "execution_count": 83,
   "id": "fb6090d4-3606-443a-8c72-16ddbd329830",
   "metadata": {},
   "outputs": [
    {
     "name": "stdout",
     "output_type": "stream",
     "text": [
      "Wednesday, December 28, 2022\n"
     ]
    }
   ],
   "source": [
    "print(f\"{myOwnDate:%A, %B %d, %Y}\")"
   ]
  },
  {
   "cell_type": "code",
   "execution_count": 90,
   "id": "1d79497a-df3e-42ac-b271-d8227c418cfe",
   "metadata": {},
   "outputs": [
    {
     "name": "stdout",
     "output_type": "stream",
     "text": [
      "11/21/2022\n"
     ]
    }
   ],
   "source": [
    "import datetime as dt\n",
    "today = dt.date.today()\n",
    "todays_date = f\"{today:%m/%d/%Y}\"\n",
    "print(todays_date)"
   ]
  },
  {
   "cell_type": "code",
   "execution_count": 91,
   "id": "572beb04-c71e-43dd-97d2-6163fd2122d4",
   "metadata": {},
   "outputs": [
    {
     "name": "stdout",
     "output_type": "stream",
     "text": [
      "Mon, Nov 21 2022\n"
     ]
    }
   ],
   "source": [
    "todays_date = f\"{today:%a, %b %d %Y}\"\n",
    "print(todays_date)"
   ]
  },
  {
   "cell_type": "code",
   "execution_count": 92,
   "id": "3f6cc4a2-2b07-4801-9e15-05c25f6f3b7d",
   "metadata": {},
   "outputs": [
    {
     "name": "stdout",
     "output_type": "stream",
     "text": [
      "11/21/22\n"
     ]
    }
   ],
   "source": [
    "todays_date = f\"{today:%x}\"\n",
    "print(todays_date)"
   ]
  },
  {
   "cell_type": "code",
   "execution_count": 93,
   "id": "14e55770-b6da-46be-972b-4e25d7e7e12d",
   "metadata": {},
   "outputs": [
    {
     "name": "stdout",
     "output_type": "stream",
     "text": [
      "11-21-2022\n"
     ]
    }
   ],
   "source": [
    "todays_date = f\"{today:%m-%d-%Y}\"\n",
    "print(todays_date)"
   ]
  },
  {
   "cell_type": "code",
   "execution_count": 96,
   "id": "74eb8943-8440-483b-b5c6-99ead5e14877",
   "metadata": {},
   "outputs": [
    {
     "name": "stdout",
     "output_type": "stream",
     "text": [
      "Monday November 21 2022\n"
     ]
    }
   ],
   "source": [
    "todays_date = f\"{today:%A %B %d %Y}\"\n",
    "print(todays_date)"
   ]
  },
  {
   "cell_type": "code",
   "execution_count": 97,
   "id": "db93c95b-b21a-4c9a-bff6-41f23cb7b0e1",
   "metadata": {},
   "outputs": [
    {
     "name": "stdout",
     "output_type": "stream",
     "text": [
      "Monday November 21 is day number 325 of 2022\n"
     ]
    }
   ],
   "source": [
    "todays_date = f\"{today:%A %B %d is day number %j of %Y}\"\n",
    "print(todays_date)"
   ]
  },
  {
   "cell_type": "markdown",
   "id": "94a3b3c4-94c5-4176-9b77-61ba11b8d1c9",
   "metadata": {},
   "source": [
    "#### Directive Description Example\n",
    "> - *%a* Weekday, abbreviated Sun\n",
    "> - %A Weekday, full Sunday\n",
    "> - %w Weekday number 0-6, where 0 is Sunday 0\n",
    "> - %d Number day of the month 01-31 31\n",
    "> - %b Month name abbreviated Jan\n",
    "> - %B Month name full January\n",
    "> - %m Month number 01-12 01\n",
    "> - %y Year without century 19\n",
    "> - %Y Year with century 2019\n",
    "> - %H Hour 00-23 23\n",
    "> - %I Hour 00-12 11\n",
    "> - %p AM/PM PM\n",
    "> - %M Minute 00-59 01\n",
    "> - %S Second 00-59 01\n",
    "> - %f Microsecond 000000-999999 495846\n",
    "> - %z UTC offset -0500\n",
    "> - %Z Time zone EST\n",
    "> - %j Day number of year 001-366 300\n",
    "> - %U Week number of year, Sunday as the first day of week, 00-53 50\n",
    "> - %W Week number of year, Monday as the first day of week, 00-53 50\n",
    "> - %c Local version of date and time Tue Dec 31 23:59:59 2018\n",
    "> - %x Local version of date 12/31/18\n",
    "> - %X Local version of time 23:59:59\n",
    "> - %% A % character %"
   ]
  },
  {
   "cell_type": "markdown",
   "id": "003a6f00-1fef-4f1d-ba22-2dae3d63833c",
   "metadata": {},
   "source": [
    "#### Working with times"
   ]
  },
  {
   "cell_type": "code",
   "execution_count": 99,
   "id": "2a34cf6d-2ca5-404c-a9c5-7e50b85b86b8",
   "metadata": {},
   "outputs": [
    {
     "name": "stdout",
     "output_type": "stream",
     "text": [
      "00:00:00\n"
     ]
    }
   ],
   "source": [
    "midnight = datetime.time()\n",
    "print(midnight)"
   ]
  },
  {
   "cell_type": "markdown",
   "id": "313dc9eb-568e-4311-924d-f354348bb929",
   "metadata": {},
   "source": [
    "#### The fourth optional value you can pass to time() is microseconds (millionths of a second). For example, the following code puts a time that’s a millionth of a second before midnight in a variable named almost_midnight and then displays that time onscreen with a print() function"
   ]
  },
  {
   "cell_type": "code",
   "execution_count": 100,
   "id": "71a75a59-bbdb-4db9-a346-599911f0a535",
   "metadata": {},
   "outputs": [
    {
     "name": "stdout",
     "output_type": "stream",
     "text": [
      "23:59:59.999999\n"
     ]
    }
   ],
   "source": [
    "almost_midnight = dt.time(23,59,59,999999)\n",
    "print(almost_midnight)"
   ]
  },
  {
   "cell_type": "code",
   "execution_count": 102,
   "id": "b6316bdf-bc40-46b2-addf-f3cddd42774a",
   "metadata": {},
   "outputs": [
    {
     "name": "stdout",
     "output_type": "stream",
     "text": [
      "11:59 PM\n"
     ]
    }
   ],
   "source": [
    "print(f\"{almost_midnight:%I:%M %p}\")"
   ]
  },
  {
   "cell_type": "code",
   "execution_count": 103,
   "id": "c098038e-e618-4a7d-83ad-0ec66d2d87e6",
   "metadata": {},
   "outputs": [
    {
     "name": "stdout",
     "output_type": "stream",
     "text": [
      "23:59:59 and 999999 microseconds\n"
     ]
    }
   ],
   "source": [
    "print(f\"{almost_midnight:%H:%M:%S and %f microseconds}\")"
   ]
  },
  {
   "cell_type": "code",
   "execution_count": 104,
   "id": "6c4085b1-466f-48af-89c9-3366d5cfedc6",
   "metadata": {},
   "outputs": [
    {
     "name": "stdout",
     "output_type": "stream",
     "text": [
      "23:59:59\n"
     ]
    }
   ],
   "source": [
    "print(f\"{almost_midnight:%X}\")"
   ]
  },
  {
   "cell_type": "code",
   "execution_count": 105,
   "id": "44d20bdc-e774-4a39-bca6-dea684f1f765",
   "metadata": {},
   "outputs": [
    {
     "name": "stdout",
     "output_type": "stream",
     "text": [
      "2022-11-21 20:03:30.499210\n"
     ]
    }
   ],
   "source": [
    "import datetime as dt\n",
    "right_now = dt.datetime.now()\n",
    "print(right_now)"
   ]
  },
  {
   "cell_type": "code",
   "execution_count": 107,
   "id": "149273ee-4aa6-4e64-bf33-8f91d45dcfeb",
   "metadata": {},
   "outputs": [
    {
     "name": "stdout",
     "output_type": "stream",
     "text": [
      "The time currently is 20:05:05 and 265679 microseconds\n"
     ]
    }
   ],
   "source": [
    "import datetime as dt\n",
    "right_now = dt.datetime.now()\n",
    "print(f\"The time currently is {right_now:%H:%M:%S and %f microseconds}\")"
   ]
  },
  {
   "cell_type": "code",
   "execution_count": 109,
   "id": "eeda79e3-ff13-4d8e-808c-27400c31f853",
   "metadata": {},
   "outputs": [
    {
     "name": "stdout",
     "output_type": "stream",
     "text": [
      "2023-05-27\n"
     ]
    }
   ],
   "source": [
    "import datetime as dt\n",
    "new_years_day = dt.date(2023,1,1)\n",
    "duration = dt.timedelta(days=146)\n",
    "print(new_years_day + duration)\n"
   ]
  },
  {
   "cell_type": "markdown",
   "id": "36d5476f-a5a7-4d30-82e8-83d6e6ed75c3",
   "metadata": {},
   "source": [
    "### Calculating time-spans"
   ]
  },
  {
   "cell_type": "markdown",
   "id": "ec6b6463-88a4-4f3a-af63-12a12eee14d2",
   "metadata": {},
   "source": [
    "##### Sometimes just knowing the date or time isn’t enough. Sometimes you need to know the duration or timespan as it’s typically called in the computer world. In other words, not the date, not the o’clock, but the “how long” in terms of years, months, weeks, days, hours, minutes, or whatever. For timespans, the Python datetime module includes the datetime.timedelta class."
   ]
  },
  {
   "cell_type": "markdown",
   "id": "b575338b-75e1-4ba7-8b2b-333b239ed6ae",
   "metadata": {},
   "source": [
    "##### A timedelta object is created automatically whenever you subtract two dates, times, or datetimes to determine the duration between them. For example, suppose you create a couple of variables to store dates, perhaps one for New Year’s Day, another for Memorial Day. Then you create a third variable named days_ between and put in it the difference you get by subtracting the earlier date from the later date, as follows:"
   ]
  },
  {
   "cell_type": "code",
   "execution_count": 113,
   "id": "8afcb33a-0034-4b1b-ab6d-8a8607b5cd61",
   "metadata": {},
   "outputs": [
    {
     "name": "stdout",
     "output_type": "stream",
     "text": [
      "146 days, 0:00:00\n"
     ]
    }
   ],
   "source": [
    "import datetime as dt\n",
    "new_years_day = dt.date(2019,1,1)\n",
    "memorial_day = dt.date(2019,5,27)\n",
    "days_between = memorial_day - new_years_day\n",
    "print(days_between)"
   ]
  },
  {
   "cell_type": "code",
   "execution_count": 114,
   "id": "ef2436a0-9f0a-4776-a9ef-2e941dfb5565",
   "metadata": {},
   "outputs": [
    {
     "name": "stdout",
     "output_type": "stream",
     "text": [
      "2019-05-27\n"
     ]
    }
   ],
   "source": [
    "import datetime as dt\n",
    "new_years_day = dt.date(2019,1,1)\n",
    "duration = dt.timedelta(days=146)\n",
    "print(new_years_day + duration)"
   ]
  },
  {
   "cell_type": "code",
   "execution_count": 111,
   "id": "f99051a8-cdb6-4992-a191-92709c4bb990",
   "metadata": {},
   "outputs": [
    {
     "name": "stdout",
     "output_type": "stream",
     "text": [
      "2022-01-01\n"
     ]
    }
   ],
   "source": [
    "import datetime as dt\n",
    "memorial_day = dt.date(2022,5,27)\n",
    "duration = dt.timedelta(days=146)\n",
    "print(memorial_day - duration)"
   ]
  },
  {
   "cell_type": "code",
   "execution_count": 115,
   "id": "832ce20a-6e8f-47a5-8cc5-c02d72ff48de",
   "metadata": {},
   "outputs": [
    {
     "name": "stdout",
     "output_type": "stream",
     "text": [
      "10097 days, 12:02:40.339823\n",
      "<class 'datetime.timedelta'>\n"
     ]
    }
   ],
   "source": [
    "import datetime as dt\n",
    "now = dt.datetime.now()\n",
    "birthdatetime = dt.datetime(1995, 3, 31, 8, 26)\n",
    "age = now - birthdatetime\n",
    "print(age)\n",
    "print(type(age))"
   ]
  },
  {
   "cell_type": "code",
   "execution_count": 116,
   "id": "503f93b9-e2c4-4048-96e6-78f7e8a13b05",
   "metadata": {},
   "outputs": [
    {
     "name": "stdout",
     "output_type": "stream",
     "text": [
      "7995 days, 0:00:00\n"
     ]
    }
   ],
   "source": [
    "import datetime as dt\n",
    "today = dt.date.today()\n",
    "birthdate = dt.date(2000, 12, 31)\n",
    "delta_age = (today - birthdate)\n",
    "print(delta_age)"
   ]
  },
  {
   "cell_type": "code",
   "execution_count": 117,
   "id": "f525c8a4-6ec3-4d6e-93e7-66ad04ca16ed",
   "metadata": {},
   "outputs": [
    {
     "name": "stdout",
     "output_type": "stream",
     "text": [
      "7995 <class 'int'>\n"
     ]
    }
   ],
   "source": [
    "delta_age = (today - birthdate)\n",
    "days_old = delta_age.days\n",
    "print(days_old, type(days_old))"
   ]
  },
  {
   "cell_type": "code",
   "execution_count": 118,
   "id": "12320068-a800-4593-aab0-b25d4e6a59ea",
   "metadata": {},
   "outputs": [
    {
     "name": "stdout",
     "output_type": "stream",
     "text": [
      "21\n"
     ]
    }
   ],
   "source": [
    "years_old = days_old // 365\n",
    "print(years_old)"
   ]
  },
  {
   "cell_type": "markdown",
   "id": "aac8fcdf-8053-4c11-9157-59e86092d7ed",
   "metadata": {},
   "source": [
    "#### Working with Timezones"
   ]
  },
  {
   "cell_type": "code",
   "execution_count": 121,
   "id": "0ec8bf95-9f55-4f15-bd3b-f5b20a1af18f",
   "metadata": {},
   "outputs": [
    {
     "name": "stdout",
     "output_type": "stream",
     "text": [
      "My time: 08:38 PM\n",
      "UTC time: 05:38 PM\n",
      "Time Difference: 3:00:00\n"
     ]
    }
   ],
   "source": [
    "### Import date module\n",
    "import datetime as dt\n",
    "\n",
    "### Getting date from my computer clock\n",
    "here_now = dt.datetime.now()\n",
    "\n",
    "### Get the UTC datetime right now\n",
    "utc_now = dt.datetime.utcnow()\n",
    "\n",
    "### subtract to see the difference\n",
    "time_difference = (here_now - utc_now)\n",
    "\n",
    "### Show results\n",
    "print(f\"My time: {here_now:%I:%M %p}\")\n",
    "print(f\"UTC time: {utc_now:%I:%M %p}\")\n",
    "print(f\"Time Difference: {time_difference}\")"
   ]
  },
  {
   "cell_type": "code",
   "execution_count": 134,
   "id": "c29c9581-09f0-41e5-9778-5302bd9bb565",
   "metadata": {},
   "outputs": [
    {
     "name": "stdout",
     "output_type": "stream",
     "text": [
      "Local:Friday 11/04/22 07:00 PM \n",
      "\n",
      "Monday 11/21/22 05:54 PM UTC\n",
      "Monday 11/21/22 12:54 PM EST\n",
      "Monday 11/21/22 11:54 AM CST\n",
      "Monday 11/21/22 10:54 AM MST\n",
      "Monday 11/21/22 09:54 AM PST\n"
     ]
    }
   ],
   "source": [
    "# import datetime and dateutil tz\n",
    "import datetime as dt\n",
    "# import timezone helpers from dateutil\n",
    "from dateutil.tz import gettz\n",
    "\n",
    "# November 21 Event, 7:00 Local time (no specific time zone).\n",
    "event = dt.datetime(2022,11,4,19,0,0)\n",
    "#show Local date and time\n",
    "print(\"Local:\" + f\"{event:%A %D %I:%M %p %Z}\" + \"\\n\")\n",
    "\n",
    "# UTC time right now\n",
    "utc = dt.datetime.now(gettz('Etc/UTC'))\n",
    "print(f\"{utc:%A %D %I:%M %p %Z}\")\n",
    "\n",
    "# USA Eastern time\n",
    "est = dt.datetime.now(gettz('America/New_York'))\n",
    "print(f\"{est:%A %D %I:%M %p %Z}\")\n",
    "\n",
    "# USA Central time\n",
    "cst = dt.datetime.now(gettz('America/Chicago'))\n",
    "print(f\"{cst:%A %D %I:%M %p %Z}\")\n",
    "\n",
    "# USA Mountain time\n",
    "mst = dt.datetime.now(gettz('America/Boise'))\n",
    "print(f\"{mst:%A %D %I:%M %p %Z}\")\n",
    "\n",
    "# USA PST time\n",
    "pst = dt.datetime.now(gettz('America/Los_Angeles'))\n",
    "print(f\"{pst:%A %D %I:%M %p %Z}\")"
   ]
  },
  {
   "cell_type": "code",
   "execution_count": 3,
   "id": "3d217bfe-268c-4fe7-a8f1-77c4f51a228b",
   "metadata": {},
   "outputs": [
    {
     "name": "stdout",
     "output_type": "stream",
     "text": [
      "['apples', 'mangoes', 'bananas', 'guava']\n"
     ]
    }
   ],
   "source": [
    "# Working with list\n",
    "fruits = ['apples', 'mangoes','bananas','guava']\n",
    "print(fruits)"
   ]
  },
  {
   "cell_type": "code",
   "execution_count": 4,
   "id": "a4da91a1-36bc-487d-b82e-b05d28c9bb68",
   "metadata": {},
   "outputs": [
    {
     "name": "stdout",
     "output_type": "stream",
     "text": [
      "['apples', 'bananas', 'guava', 'mangoes']\n"
     ]
    }
   ],
   "source": [
    "fruits.sort()\n",
    "print(fruits)"
   ]
  },
  {
   "cell_type": "code",
   "execution_count": 5,
   "id": "95817ee0-9429-4ec8-9b69-1a0835f3285b",
   "metadata": {},
   "outputs": [
    {
     "name": "stdout",
     "output_type": "stream",
     "text": [
      "['apples', 'bananas', 'guava', 'mangoes', 'pineapples']\n"
     ]
    }
   ],
   "source": [
    "fruits.append('pineapples')\n",
    "print(fruits)"
   ]
  },
  {
   "cell_type": "code",
   "execution_count": 7,
   "id": "09b10169-38ad-48f0-8a2f-55fc3aae82b5",
   "metadata": {},
   "outputs": [
    {
     "name": "stdout",
     "output_type": "stream",
     "text": [
      "['pineapples', 'mangoes', 'guava', 'bananas', 'apples']\n"
     ]
    }
   ],
   "source": [
    "fruits.reverse()\n",
    "print(fruits)"
   ]
  },
  {
   "cell_type": "code",
   "execution_count": 13,
   "id": "cb62ac45-148f-4836-afce-92535c22f2fc",
   "metadata": {},
   "outputs": [
    {
     "name": "stdout",
     "output_type": "stream",
     "text": [
      "2\n"
     ]
    }
   ],
   "source": [
    "prices = (29.95, 9.98, 4.95, 79.98, 2.95)\n",
    "look_for =4.95\n",
    "if look_for in prices:\n",
    "    position = prices.index(look_for)\n",
    "else:\n",
    "    position=-1\n",
    "print(position)"
   ]
  },
  {
   "cell_type": "code",
   "execution_count": 10,
   "id": "4a3a9077-abc0-4eff-b44f-b321356152fa",
   "metadata": {},
   "outputs": [
    {
     "name": "stdout",
     "output_type": "stream",
     "text": [
      "1\n"
     ]
    }
   ],
   "source": [
    "print(prices.count(4.95))"
   ]
  },
  {
   "cell_type": "code",
   "execution_count": 18,
   "id": "180cc825-8a96-4a2b-8f87-a13abbeff029",
   "metadata": {},
   "outputs": [
    {
     "name": "stdout",
     "output_type": "stream",
     "text": [
      "kes 29.95\n",
      "kes 9.98\n",
      "kes 4.95\n",
      "kes 79.98\n",
      "kes 2.95\n"
     ]
    }
   ],
   "source": [
    "for price in prices:\n",
    "    print(f'kes {price:.2f}')"
   ]
  }
 ],
 "metadata": {
  "kernelspec": {
   "display_name": "Python 3 (ipykernel)",
   "language": "python",
   "name": "python3"
  },
  "language_info": {
   "codemirror_mode": {
    "name": "ipython",
    "version": 3
   },
   "file_extension": ".py",
   "mimetype": "text/x-python",
   "name": "python",
   "nbconvert_exporter": "python",
   "pygments_lexer": "ipython3",
   "version": "3.9.12"
  }
 },
 "nbformat": 4,
 "nbformat_minor": 5
}

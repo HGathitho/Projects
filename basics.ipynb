{
 "cells": [
  {
   "cell_type": "code",
   "execution_count": 1,
   "id": "3c0f75d7-fc9f-42af-82be-ea5d760dcac5",
   "metadata": {},
   "outputs": [
    {
     "name": "stdout",
     "output_type": "stream",
     "text": [
      "9.0\n"
     ]
    }
   ],
   "source": [
    "import math\n",
    "z = 81\n",
    "print(math.sqrt(z))"
   ]
  },
  {
   "cell_type": "markdown",
   "id": "1bcc86b7-2b6b-4d87-9062-ff685c2a7997",
   "metadata": {},
   "source": [
    "### Formating with f-strings"
   ]
  },
  {
   "cell_type": "code",
   "execution_count": 3,
   "id": "9e8c91f5-077b-4dc4-b46a-079ee5dcc753",
   "metadata": {},
   "outputs": [
    {
     "name": "stdout",
     "output_type": "stream",
     "text": [
      "Hello Mr.Harrtedwin\n"
     ]
    }
   ],
   "source": [
    "\n",
    "username=\"Harrtedwin\"\n",
    "print(f\"Hello Mr.{username}\")"
   ]
  },
  {
   "cell_type": "code",
   "execution_count": 21,
   "id": "d7cbe3f8-fd4f-4dc1-9fd2-33278ac7b575",
   "metadata": {},
   "outputs": [
    {
     "name": "stdout",
     "output_type": "stream",
     "text": [
      "Subtotal: Kes.147017.09999999998\n"
     ]
    }
   ],
   "source": [
    "unit_price = 4900.57\n",
    "quantity = 30\n",
    "print(f\"Subtotal: Kes.{quantity*unit_price}\")"
   ]
  },
  {
   "cell_type": "markdown",
   "id": "f5ef13fa-2571-4e02-9e33-c16fa6097e88",
   "metadata": {},
   "source": [
    "### Showing amounts with commas"
   ]
  },
  {
   "cell_type": "markdown",
   "id": "6a087a5e-fe73-4977-99e6-d7053c41ca77",
   "metadata": {},
   "source": [
    "> To get a comma to show in amount and the pennies to be two digits, you\n",
    "can use a format string inside the curly braces of an expression in an f-string. The\n",
    "format string starts with a colon and needs to be placed inside the closing curly\n",
    "brace, right up against the variable name or the value being shown."
   ]
  },
  {
   "cell_type": "code",
   "execution_count": 22,
   "id": "e88dc27e-6506-4aec-bd8f-a1c676657726",
   "metadata": {},
   "outputs": [
    {
     "name": "stdout",
     "output_type": "stream",
     "text": [
      "Subtotal: Kes.147,017.09999999998\n"
     ]
    }
   ],
   "source": [
    "print(f\"Subtotal: Kes.{quantity*unit_price:,}\")"
   ]
  },
  {
   "cell_type": "code",
   "execution_count": 23,
   "id": "a9a1a4af-35ef-4a63-8a44-adc4fe69908b",
   "metadata": {},
   "outputs": [
    {
     "name": "stdout",
     "output_type": "stream",
     "text": [
      "Subtotal: Kes.147,017.10\n"
     ]
    }
   ],
   "source": [
    "# To get the pennies to show as thow digits, follow comma with .2f\n",
    "print(f\"Subtotal: Kes.{quantity*unit_price:,.2f}\")"
   ]
  },
  {
   "cell_type": "markdown",
   "id": "629a256d-85a5-4c0e-9144-515bc70a9f4b",
   "metadata": {},
   "source": [
    "#### Formatting percent numbers"
   ]
  },
  {
   "cell_type": "code",
   "execution_count": 25,
   "id": "cf037217-4556-4e97-9fc0-8c43d68e999d",
   "metadata": {},
   "outputs": [
    {
     "name": "stdout",
     "output_type": "stream",
     "text": [
      "Sales Tax Rate = 0.065\n"
     ]
    }
   ],
   "source": [
    "# We have a sales_tax_rate that is equivalent to 6.5%\n",
    "sales_tax_rate = 0.065\n",
    "print(f\"Sales Tax Rate = {sales_tax_rate}\")"
   ]
  },
  {
   "cell_type": "code",
   "execution_count": 26,
   "id": "8ff6920f-2dc7-49a0-b5c9-584519c607ce",
   "metadata": {},
   "outputs": [
    {
     "name": "stdout",
     "output_type": "stream",
     "text": [
      "Sales Tax Rate = 6.50%\n"
     ]
    }
   ],
   "source": [
    "# If we want to print it as a percetage we would use .2% after :\n",
    "print(f\"Sales Tax Rate = {sales_tax_rate:,.2%}\")"
   ]
  },
  {
   "cell_type": "code",
   "execution_count": 30,
   "id": "4f5319db-d961-4ee5-948d-21f9189c4453",
   "metadata": {},
   "outputs": [
    {
     "name": "stdout",
     "output_type": "stream",
     "text": [
      "Sales Tax Rate = 6.5%\n"
     ]
    }
   ],
   "source": [
    "print(f\"Sales Tax Rate = {sales_tax_rate:.1%}\")"
   ]
  },
  {
   "cell_type": "code",
   "execution_count": 32,
   "id": "b38e7f81-7ff6-417f-b120-37454068bd00",
   "metadata": {},
   "outputs": [
    {
     "name": "stdout",
     "output_type": "stream",
     "text": [
      "Sales Tax Rate 6.5%\n",
      "Sales Tax Rate 6.50%\n",
      "Sales Tax Rate 6.500%\n",
      "Sales Tax Rate 6.500000%\n"
     ]
    }
   ],
   "source": [
    "### Different styles for printing\n",
    "sales_tax_rate=0.065\n",
    "sample1 = f'Sales Tax Rate {sales_tax_rate:.1%}'\n",
    "sample2 = f\"Sales Tax Rate {sales_tax_rate:.2%}\"\n",
    "sample3 = f\"\"\"Sales Tax Rate {sales_tax_rate:.3%}\"\"\"\n",
    "sample4 = f'''Sales Tax Rate {sales_tax_rate:%}'''\n",
    "\n",
    "print(sample1)\n",
    "print(sample2)\n",
    "print(sample3)\n",
    "print(sample4)"
   ]
  },
  {
   "cell_type": "markdown",
   "id": "b42f2704-83d2-4d84-8f93-e50e241797d1",
   "metadata": {},
   "source": [
    "### Making Multiline format strings"
   ]
  },
  {
   "cell_type": "code",
   "execution_count": 34,
   "id": "9d7078d7-b44b-45c9-91e4-ad1b178309d7",
   "metadata": {},
   "outputs": [
    {
     "name": "stdout",
     "output_type": "stream",
     "text": [
      "Alberto\n",
      "Babs\n",
      "Carlos\n"
     ]
    }
   ],
   "source": [
    "user1 = \"Alberto\"\n",
    "user2 = \"Babs\"\n",
    "user3 = \"Carlos\"\n",
    "\n",
    "output = f\"{user1}\\n{user2}\\n{user3}\"\n",
    "print(output)"
   ]
  },
  {
   "cell_type": "markdown",
   "id": "34c30386-db06-4835-8d8e-58cf2c3dc622",
   "metadata": {},
   "source": [
    "### Use Triple Quotation Marks\n",
    "#### If you use triple quotation marks around format string then \\n will not be required"
   ]
  },
  {
   "cell_type": "code",
   "execution_count": 41,
   "id": "4f519eba-73f8-472a-a5d5-49e152e23aa9",
   "metadata": {},
   "outputs": [
    {
     "name": "stdout",
     "output_type": "stream",
     "text": [
      "\n",
      "Subtotal: Kes 1,598.40\n",
      "Sales Tax: Kes 103.90\n",
      "Total: Kes 1,702.30\n",
      "\n"
     ]
    }
   ],
   "source": [
    "unit_price = 49.95\n",
    "quantity = 32\n",
    "sales_tax_rate = 0.065\n",
    "subtotal = quantity * unit_price\n",
    "sales_tax = sales_tax_rate * subtotal\n",
    "total = subtotal + sales_tax\n",
    "\n",
    "output = f\"\"\"\n",
    "Subtotal: Kes {subtotal:,.2f}\n",
    "Sales Tax: Kes {sales_tax:,.2f}\n",
    "Total: Kes {total:,.2f}\n",
    "\"\"\"\n",
    "\n",
    "print(output)"
   ]
  },
  {
   "cell_type": "markdown",
   "id": "a934b2a9-ef69-4f7d-a346-0bed709e2869",
   "metadata": {},
   "source": [
    "### Formatting width and alignment"
   ]
  },
  {
   "cell_type": "code",
   "execution_count": 49,
   "id": "ff4c4ca1-84a1-4f83-b102-15c0e3481411",
   "metadata": {},
   "outputs": [
    {
     "name": "stdout",
     "output_type": "stream",
     "text": [
      "\n",
      "Subtotal: $ 1,598.40\n",
      "Sales Tax: $ 103.90\n",
      "Total: $ 1,702.30\n",
      "\n"
     ]
    }
   ],
   "source": [
    "unit_price = 49.95\n",
    "quantity = 32\n",
    "sales_tax_rate = 0.065\n",
    "subtotal = quantity * unit_price\n",
    "sales_tax = sales_tax_rate * subtotal\n",
    "total = subtotal + sales_tax\n",
    "\n",
    "output = f\"\"\"\n",
    "Subtotal: ${subtotal:>9,.2f}\n",
    "Sales Tax: ${sales_tax:>7,.2f}\n",
    "Total: ${total:>9,.2f}\n",
    "\"\"\"\n",
    "\n",
    "print(output)"
   ]
  },
  {
   "cell_type": "code",
   "execution_count": 50,
   "id": "ce10eb39-1b45-44b5-a91f-3c082c96c53c",
   "metadata": {},
   "outputs": [
    {
     "name": "stdout",
     "output_type": "stream",
     "text": [
      "\n",
      "Subtotal: $1,598.40\n",
      "Sales Tax:   $103.90\n",
      "Total: $1,702.30\n",
      "\n"
     ]
    }
   ],
   "source": [
    "unit_price = 49.95\n",
    "quantity = 32\n",
    "sales_tax_rate = 0.065\n",
    "subtotal = quantity * unit_price\n",
    "sales_tax = sales_tax_rate * subtotal\n",
    "total = subtotal + sales_tax\n",
    "\n",
    "#Format amounts to show as string with leading dollar sign\n",
    "s_subtotal = \"$\" + f\"{subtotal:,.2f}\"\n",
    "s_sales_tax = \"$\" + f\"{sales_tax:,.2f}\"\n",
    "s_total = \"$\" + f\"{total:,.2f}\"\n",
    "\n",
    "#Output the string with dollar sign already attached\n",
    "output = f\"\"\"\n",
    "Subtotal: {s_subtotal:>9}\n",
    "Sales Tax: {s_sales_tax:>9}\n",
    "Total: {s_total:>9}\n",
    "\"\"\"\n",
    "\n",
    "print(output)"
   ]
  },
  {
   "cell_type": "code",
   "execution_count": 51,
   "id": "8d7c0363-4a36-4dcb-a83e-c528d8b2b6da",
   "metadata": {},
   "outputs": [
    {
     "name": "stdout",
     "output_type": "stream",
     "text": [
      "0xff\n"
     ]
    }
   ],
   "source": [
    "print(hex(255))"
   ]
  },
  {
   "cell_type": "code",
   "execution_count": null,
   "id": "e3c7c6e6-3e1f-4854-922f-7f900996c0b3",
   "metadata": {},
   "outputs": [],
   "source": []
  }
 ],
 "metadata": {
  "kernelspec": {
   "display_name": "Python 3 (ipykernel)",
   "language": "python",
   "name": "python3"
  },
  "language_info": {
   "codemirror_mode": {
    "name": "ipython",
    "version": 3
   },
   "file_extension": ".py",
   "mimetype": "text/x-python",
   "name": "python",
   "nbconvert_exporter": "python",
   "pygments_lexer": "ipython3",
   "version": "3.9.12"
  }
 },
 "nbformat": 4,
 "nbformat_minor": 5
}

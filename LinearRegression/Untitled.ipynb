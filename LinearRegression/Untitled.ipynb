{
 "cells": [
  {
   "cell_type": "code",
   "execution_count": 3,
   "id": "d850e480-dff8-49ec-b4d1-7e525477db05",
   "metadata": {},
   "outputs": [
    {
     "ename": "TypeError",
     "evalue": "maxProductSubset() missing 1 required positional argument: 'n'",
     "output_type": "error",
     "traceback": [
      "\u001b[1;31m---------------------------------------------------------------------------\u001b[0m",
      "\u001b[1;31mTypeError\u001b[0m                                 Traceback (most recent call last)",
      "Input \u001b[1;32mIn [3]\u001b[0m, in \u001b[0;36m<cell line: 1>\u001b[1;34m()\u001b[0m\n\u001b[1;32m----> 1\u001b[0m \u001b[43mmaxProductSubset\u001b[49m\u001b[43m(\u001b[49m\u001b[43m[\u001b[49m\u001b[38;5;241;43m2\u001b[39;49m\u001b[43m,\u001b[49m\u001b[43m \u001b[49m\u001b[38;5;241;43m0\u001b[39;49m\u001b[43m,\u001b[49m\u001b[43m \u001b[49m\u001b[38;5;241;43m2\u001b[39;49m\u001b[43m,\u001b[49m\u001b[43m \u001b[49m\u001b[38;5;241;43m2\u001b[39;49m\u001b[43m,\u001b[49m\u001b[43m \u001b[49m\u001b[38;5;241;43m0\u001b[39;49m\u001b[43m]\u001b[49m\u001b[43m)\u001b[49m\n",
      "\u001b[1;31mTypeError\u001b[0m: maxProductSubset() missing 1 required positional argument: 'n'"
     ]
    }
   ],
   "source": [
    "maxProductSubset([2, 0, 2, 2, 0])"
   ]
  },
  {
   "cell_type": "code",
   "execution_count": 4,
   "id": "5e907064-176a-4b22-a883-60deea0380a5",
   "metadata": {},
   "outputs": [],
   "source": [
    "#  to_base_n(str: int_base_10, int: n) -> str: str_base_n\n",
    "#  2 <= n < 10\n",
    "def to_base_n(int_base_10, n):\n",
    "    residual = int(int_base_10)\n",
    "    digits_base_n = []\n",
    "    while residual >= n:\n",
    "        r = residual % n\n",
    "        digits_base_n.append(str(r))\n",
    "        residual = (residual - r) // n\n",
    "    digits_base_n.append(str(residual))\n",
    "    return ''.join(digits_base_n[::-1])\n",
    "\n",
    "#  to_base_10(str: int_base_n, int: n) -> str: str_base_10\n",
    "#  2 <= n < 10\n",
    "def to_base_10(int_base_n, n):\n",
    "    x = list(int_base_n[::-1])\n",
    "    y_base_10 = 0\n",
    "    for i, a in enumerate(x):\n",
    "        y_base_10 += int(a) * (n ** i)\n",
    "    return str(y_base_10)\n",
    "\n",
    "\n",
    "def solution(n, b):\n",
    "    k = len(n)\n",
    "    m = n\n",
    "    mini_id = []\n",
    "    while m not in mini_id:\n",
    "        mini_id.append(m)\n",
    "        s = sorted(m)\n",
    "        x_descend = ''.join(s[::-1])\n",
    "        y_ascend = ''.join(s)        \n",
    "        if b == 10:\n",
    "            int_m = int(x_descend) - int(y_ascend)\n",
    "            m = str(int_m)\n",
    "        else:\n",
    "            int_m_10 = int(to_base_10(x_descend, b)) - int(to_base_10(y_ascend, b))\n",
    "            m = to_base_n(str(int_m_10), b)\n",
    "        \n",
    "        m =  (k - len(m)) * '0' + m\n",
    "    print(mini_id)\n",
    "    return len(mini_id) - mini_id.index(m)"
   ]
  },
  {
   "cell_type": "code",
   "execution_count": 5,
   "id": "74b2824a-3506-4dec-a1f9-e0a3db661cb2",
   "metadata": {},
   "outputs": [
    {
     "name": "stdout",
     "output_type": "stream",
     "text": [
      "['1211', '0999', '8991', '8082', '8532', '6174']\n"
     ]
    },
    {
     "data": {
      "text/plain": [
       "1"
      ]
     },
     "execution_count": 5,
     "metadata": {},
     "output_type": "execute_result"
    }
   ],
   "source": [
    "solution('1211', 10)"
   ]
  },
  {
   "cell_type": "code",
   "execution_count": 6,
   "id": "63ade3bc-5979-421a-81c3-4a47949560fa",
   "metadata": {},
   "outputs": [
    {
     "name": "stdout",
     "output_type": "stream",
     "text": [
      "['210022', '220101', '212201', '210111', '122221', '102212']\n"
     ]
    },
    {
     "data": {
      "text/plain": [
       "3"
      ]
     },
     "execution_count": 6,
     "metadata": {},
     "output_type": "execute_result"
    }
   ],
   "source": [
    "solution('210022', 3)"
   ]
  },
  {
   "cell_type": "code",
   "execution_count": 7,
   "id": "5805a19d-ed83-4c1b-ad2d-725d990836a0",
   "metadata": {},
   "outputs": [],
   "source": [
    "def dTob(d, b):\n",
    "    digits = []\n",
    "    while d > 0:\n",
    "        digits.insert(0, str(d % b))\n",
    "        d  = d / b\n",
    "    return ''.join(digits)\n",
    "def bTod(b, c):\n",
    "  n = 0\n",
    "  for d in str(b):\n",
    "    n = c * n + int(d)\n",
    "  return n\n",
    "def negative(x, y, b):\n",
    "  if b==10:\n",
    "    return int(x) - int(y)\n",
    "  dx=bTod(x,b)\n",
    "  dy=bTod(y,b)\n",
    "  dz=dx-dy\n",
    "  return dTob(dz, b)\n",
    "def solution(n, b):\n",
    "    arr=[]\n",
    "    while True:\n",
    "        i = \"\".join(sorted(str(n), reverse=True))\n",
    "        j = \"\".join(sorted(str(n)))\n",
    "        k = negative(i,j,b)\n",
    "        k2 = len(str(k))\n",
    "        i2 = len(str(i))\n",
    "        if (k2) != i2:\n",
    "            k = k * pow(10 ,(i2-k2))\n",
    "        for index, item in enumerate(arr):\n",
    "          if item == k:\n",
    "            return index + 1\n",
    "        arr = [k] + arr\n",
    "        n = k"
   ]
  },
  {
   "cell_type": "code",
   "execution_count": 8,
   "id": "72bc7ef6-2c49-451c-9baf-dbf9d3bb8d82",
   "metadata": {},
   "outputs": [
    {
     "data": {
      "text/plain": [
       "1"
      ]
     },
     "execution_count": 8,
     "metadata": {},
     "output_type": "execute_result"
    }
   ],
   "source": [
    "solution('1211', 10)"
   ]
  },
  {
   "cell_type": "code",
   "execution_count": 9,
   "id": "71bc779a-81bb-4d2d-b91a-167802fdf953",
   "metadata": {},
   "outputs": [
    {
     "ename": "TypeError",
     "evalue": "can't multiply sequence by non-int of type 'float'",
     "output_type": "error",
     "traceback": [
      "\u001b[1;31m---------------------------------------------------------------------------\u001b[0m",
      "\u001b[1;31mTypeError\u001b[0m                                 Traceback (most recent call last)",
      "Input \u001b[1;32mIn [9]\u001b[0m, in \u001b[0;36m<cell line: 1>\u001b[1;34m()\u001b[0m\n\u001b[1;32m----> 1\u001b[0m \u001b[43msolution\u001b[49m\u001b[43m(\u001b[49m\u001b[38;5;124;43m'\u001b[39;49m\u001b[38;5;124;43m210022\u001b[39;49m\u001b[38;5;124;43m'\u001b[39;49m\u001b[43m,\u001b[49m\u001b[43m \u001b[49m\u001b[38;5;241;43m3\u001b[39;49m\u001b[43m)\u001b[49m\n",
      "Input \u001b[1;32mIn [7]\u001b[0m, in \u001b[0;36msolution\u001b[1;34m(n, b)\u001b[0m\n\u001b[0;32m     26\u001b[0m i2 \u001b[38;5;241m=\u001b[39m \u001b[38;5;28mlen\u001b[39m(\u001b[38;5;28mstr\u001b[39m(i))\n\u001b[0;32m     27\u001b[0m \u001b[38;5;28;01mif\u001b[39;00m (k2) \u001b[38;5;241m!=\u001b[39m i2:\n\u001b[1;32m---> 28\u001b[0m     k \u001b[38;5;241m=\u001b[39m \u001b[43mk\u001b[49m\u001b[43m \u001b[49m\u001b[38;5;241;43m*\u001b[39;49m\u001b[43m \u001b[49m\u001b[38;5;28;43mpow\u001b[39;49m\u001b[43m(\u001b[49m\u001b[38;5;241;43m10\u001b[39;49m\u001b[43m \u001b[49m\u001b[43m,\u001b[49m\u001b[43m(\u001b[49m\u001b[43mi2\u001b[49m\u001b[38;5;241;43m-\u001b[39;49m\u001b[43mk2\u001b[49m\u001b[43m)\u001b[49m\u001b[43m)\u001b[49m\n\u001b[0;32m     29\u001b[0m \u001b[38;5;28;01mfor\u001b[39;00m index, item \u001b[38;5;129;01min\u001b[39;00m \u001b[38;5;28menumerate\u001b[39m(arr):\n\u001b[0;32m     30\u001b[0m   \u001b[38;5;28;01mif\u001b[39;00m item \u001b[38;5;241m==\u001b[39m k:\n",
      "\u001b[1;31mTypeError\u001b[0m: can't multiply sequence by non-int of type 'float'"
     ]
    }
   ],
   "source": [
    "solution('210022', 3)"
   ]
  },
  {
   "cell_type": "code",
   "execution_count": 17,
   "id": "03bf7d1f-0393-4629-875b-26581f49e2bf",
   "metadata": {},
   "outputs": [],
   "source": [
    "import itertools\n",
    "\n",
    "def convert_to_path(perm):\n",
    "    perm = list(perm)\n",
    "    perm = [0] + perm + [-1]\n",
    "    path = list()\n",
    "    for i in range(1, len(perm)):\n",
    "        path.append((perm[i - 1], perm[i]))\n",
    "    return path\n",
    "\n",
    "def answer(times, times_limit):\n",
    "    rows = len(times)\n",
    "    bunnies = rows - 2\n",
    "\n",
    "    for k in range(rows):\n",
    "        for i in range(rows):\n",
    "            for j in range(rows):\n",
    "                if times[i][j] > times[i][k] + times[k][j]:\n",
    "                    times[i][j] = times[i][k] + times[k][j]\n",
    "\n",
    "    for r in range(rows):\n",
    "        if times[r][r] < 0:\n",
    "            return [i for i in range(bunnies)]\n",
    "\n",
    "    for i in reversed(range(bunnies + 1)):\n",
    "        for perm in itertools.permutations(range(1, bunnies + 1), i):\n",
    "            total_time = 0\n",
    "            path = convert_to_path(perm)\n",
    "            for start, end in path:\n",
    "                total_time += times[start][end]\n",
    "            if total_time <= times_limit:\n",
    "                return sorted(list(i - 1 for i in perm))\n",
    "    return None"
   ]
  },
  {
   "cell_type": "code",
   "execution_count": 18,
   "id": "a9f81b9a-3df8-44e1-9fb9-c9cb6efc0503",
   "metadata": {},
   "outputs": [
    {
     "data": {
      "text/plain": [
       "[1, 2]"
      ]
     },
     "execution_count": 18,
     "metadata": {},
     "output_type": "execute_result"
    }
   ],
   "source": [
    "solution([[0, 2, 2, 2, -1], [9, 0, 2, 2, -1], [9, 3, 0, 2, -1], [9, 3, 2, 0, -1], [9, 3, 2, 2, 0]], 1)"
   ]
  },
  {
   "cell_type": "code",
   "execution_count": 19,
   "id": "76fb90ab-92c8-478e-b6c1-70af2a7dc0af",
   "metadata": {},
   "outputs": [
    {
     "data": {
      "text/plain": [
       "[0, 1]"
      ]
     },
     "execution_count": 19,
     "metadata": {},
     "output_type": "execute_result"
    }
   ],
   "source": [
    "solution([[0, 1, 1, 1, 1], [1, 0, 1, 1, 1], [1, 1, 0, 1, 1], [1, 1, 1, 0, 1], [1, 1, 1, 1, 0]], 3)"
   ]
  },
  {
   "cell_type": "code",
   "execution_count": 23,
   "id": "3177508b-45b9-4f9c-bf6e-8b0d56fda579",
   "metadata": {},
   "outputs": [],
   "source": [
    "import itertools\n",
    "\n",
    "def convert_to_path(p):\n",
    "    p = list(p)\n",
    "    p = [0] + p + [-1]\n",
    "    path = list()\n",
    "    for i in range(1, len(p)):\n",
    "        path.append(p[i - 1], p[i])\n",
    "    return path\n",
    "    \n",
    "def solution(times, times_limit):\n",
    "    rows = len(times)\n",
    "    bunnies = rows - 2\n",
    "    \n",
    "    for k in range(rows):\n",
    "        for i in range(rows):\n",
    "            for j in range(rows):\n",
    "                if times[i][j] > times[i][k] + times[k][j]:\n",
    "                    times[i][j] = times[i][k] + times[k][j]\n",
    "                    \n",
    "    for r in range(rows):\n",
    "        if times[r][r] < 0:\n",
    "            return [i for i in range(bunnies)]\n",
    "            \n",
    "    for i in reversed(range(bunnies + 1)):\n",
    "        for p in itertools.permutations(range(1, bunnies + 1),i):\n",
    "            totalTime = 0\n",
    "            path = convert_to_path(p)\n",
    "            for start, end in path:\n",
    "                totalTime += times[start][end]\n",
    "            if totalTime <= times_limit:\n",
    "                return sorted(list(i-1 for i in p))\n",
    "                \n",
    "    return None"
   ]
  },
  {
   "cell_type": "code",
   "execution_count": 24,
   "id": "10992861-0282-4fcf-a35e-798b11f5dd65",
   "metadata": {},
   "outputs": [
    {
     "ename": "TypeError",
     "evalue": "list.append() takes exactly one argument (2 given)",
     "output_type": "error",
     "traceback": [
      "\u001b[1;31m---------------------------------------------------------------------------\u001b[0m",
      "\u001b[1;31mTypeError\u001b[0m                                 Traceback (most recent call last)",
      "Input \u001b[1;32mIn [24]\u001b[0m, in \u001b[0;36m<cell line: 1>\u001b[1;34m()\u001b[0m\n\u001b[1;32m----> 1\u001b[0m \u001b[43msolution\u001b[49m\u001b[43m(\u001b[49m\u001b[43m[\u001b[49m\u001b[43m[\u001b[49m\u001b[38;5;241;43m0\u001b[39;49m\u001b[43m,\u001b[49m\u001b[43m \u001b[49m\u001b[38;5;241;43m1\u001b[39;49m\u001b[43m,\u001b[49m\u001b[43m \u001b[49m\u001b[38;5;241;43m1\u001b[39;49m\u001b[43m,\u001b[49m\u001b[43m \u001b[49m\u001b[38;5;241;43m1\u001b[39;49m\u001b[43m,\u001b[49m\u001b[43m \u001b[49m\u001b[38;5;241;43m1\u001b[39;49m\u001b[43m]\u001b[49m\u001b[43m,\u001b[49m\u001b[43m \u001b[49m\u001b[43m[\u001b[49m\u001b[38;5;241;43m1\u001b[39;49m\u001b[43m,\u001b[49m\u001b[43m \u001b[49m\u001b[38;5;241;43m0\u001b[39;49m\u001b[43m,\u001b[49m\u001b[43m \u001b[49m\u001b[38;5;241;43m1\u001b[39;49m\u001b[43m,\u001b[49m\u001b[43m \u001b[49m\u001b[38;5;241;43m1\u001b[39;49m\u001b[43m,\u001b[49m\u001b[43m \u001b[49m\u001b[38;5;241;43m1\u001b[39;49m\u001b[43m]\u001b[49m\u001b[43m,\u001b[49m\u001b[43m \u001b[49m\u001b[43m[\u001b[49m\u001b[38;5;241;43m1\u001b[39;49m\u001b[43m,\u001b[49m\u001b[43m \u001b[49m\u001b[38;5;241;43m1\u001b[39;49m\u001b[43m,\u001b[49m\u001b[43m \u001b[49m\u001b[38;5;241;43m0\u001b[39;49m\u001b[43m,\u001b[49m\u001b[43m \u001b[49m\u001b[38;5;241;43m1\u001b[39;49m\u001b[43m,\u001b[49m\u001b[43m \u001b[49m\u001b[38;5;241;43m1\u001b[39;49m\u001b[43m]\u001b[49m\u001b[43m,\u001b[49m\u001b[43m \u001b[49m\u001b[43m[\u001b[49m\u001b[38;5;241;43m1\u001b[39;49m\u001b[43m,\u001b[49m\u001b[43m \u001b[49m\u001b[38;5;241;43m1\u001b[39;49m\u001b[43m,\u001b[49m\u001b[43m \u001b[49m\u001b[38;5;241;43m1\u001b[39;49m\u001b[43m,\u001b[49m\u001b[43m \u001b[49m\u001b[38;5;241;43m0\u001b[39;49m\u001b[43m,\u001b[49m\u001b[43m \u001b[49m\u001b[38;5;241;43m1\u001b[39;49m\u001b[43m]\u001b[49m\u001b[43m,\u001b[49m\u001b[43m \u001b[49m\u001b[43m[\u001b[49m\u001b[38;5;241;43m1\u001b[39;49m\u001b[43m,\u001b[49m\u001b[43m \u001b[49m\u001b[38;5;241;43m1\u001b[39;49m\u001b[43m,\u001b[49m\u001b[43m \u001b[49m\u001b[38;5;241;43m1\u001b[39;49m\u001b[43m,\u001b[49m\u001b[43m \u001b[49m\u001b[38;5;241;43m1\u001b[39;49m\u001b[43m,\u001b[49m\u001b[43m \u001b[49m\u001b[38;5;241;43m0\u001b[39;49m\u001b[43m]\u001b[49m\u001b[43m]\u001b[49m\u001b[43m,\u001b[49m\u001b[43m \u001b[49m\u001b[38;5;241;43m3\u001b[39;49m\u001b[43m)\u001b[49m\n",
      "Input \u001b[1;32mIn [23]\u001b[0m, in \u001b[0;36msolution\u001b[1;34m(times, times_limit)\u001b[0m\n\u001b[0;32m     26\u001b[0m \u001b[38;5;28;01mfor\u001b[39;00m p \u001b[38;5;129;01min\u001b[39;00m itertools\u001b[38;5;241m.\u001b[39mpermutations(\u001b[38;5;28mrange\u001b[39m(\u001b[38;5;241m1\u001b[39m, bunnies \u001b[38;5;241m+\u001b[39m \u001b[38;5;241m1\u001b[39m),i):\n\u001b[0;32m     27\u001b[0m     totalTime \u001b[38;5;241m=\u001b[39m \u001b[38;5;241m0\u001b[39m\n\u001b[1;32m---> 28\u001b[0m     path \u001b[38;5;241m=\u001b[39m \u001b[43mconvert_to_path\u001b[49m\u001b[43m(\u001b[49m\u001b[43mp\u001b[49m\u001b[43m)\u001b[49m\n\u001b[0;32m     29\u001b[0m     \u001b[38;5;28;01mfor\u001b[39;00m start, end \u001b[38;5;129;01min\u001b[39;00m path:\n\u001b[0;32m     30\u001b[0m         totalTime \u001b[38;5;241m+\u001b[39m\u001b[38;5;241m=\u001b[39m times[start][end]\n",
      "Input \u001b[1;32mIn [23]\u001b[0m, in \u001b[0;36mconvert_to_path\u001b[1;34m(p)\u001b[0m\n\u001b[0;32m      6\u001b[0m path \u001b[38;5;241m=\u001b[39m \u001b[38;5;28mlist\u001b[39m()\n\u001b[0;32m      7\u001b[0m \u001b[38;5;28;01mfor\u001b[39;00m i \u001b[38;5;129;01min\u001b[39;00m \u001b[38;5;28mrange\u001b[39m(\u001b[38;5;241m1\u001b[39m, \u001b[38;5;28mlen\u001b[39m(p)):\n\u001b[1;32m----> 8\u001b[0m     \u001b[43mpath\u001b[49m\u001b[38;5;241;43m.\u001b[39;49m\u001b[43mappend\u001b[49m\u001b[43m(\u001b[49m\u001b[43mp\u001b[49m\u001b[43m[\u001b[49m\u001b[43mi\u001b[49m\u001b[43m \u001b[49m\u001b[38;5;241;43m-\u001b[39;49m\u001b[43m \u001b[49m\u001b[38;5;241;43m1\u001b[39;49m\u001b[43m]\u001b[49m\u001b[43m,\u001b[49m\u001b[43m \u001b[49m\u001b[43mp\u001b[49m\u001b[43m[\u001b[49m\u001b[43mi\u001b[49m\u001b[43m]\u001b[49m\u001b[43m)\u001b[49m\n\u001b[0;32m      9\u001b[0m \u001b[38;5;28;01mreturn\u001b[39;00m path\n",
      "\u001b[1;31mTypeError\u001b[0m: list.append() takes exactly one argument (2 given)"
     ]
    }
   ],
   "source": [
    "solution([[0, 1, 1, 1, 1], [1, 0, 1, 1, 1], [1, 1, 0, 1, 1], [1, 1, 1, 0, 1], [1, 1, 1, 1, 0]], 3)"
   ]
  },
  {
   "cell_type": "code",
   "execution_count": null,
   "id": "ea7cedfa-5ab5-4b61-a124-690148109405",
   "metadata": {},
   "outputs": [],
   "source": []
  }
 ],
 "metadata": {
  "kernelspec": {
   "display_name": "Python 3 (ipykernel)",
   "language": "python",
   "name": "python3"
  },
  "language_info": {
   "codemirror_mode": {
    "name": "ipython",
    "version": 3
   },
   "file_extension": ".py",
   "mimetype": "text/x-python",
   "name": "python",
   "nbconvert_exporter": "python",
   "pygments_lexer": "ipython3",
   "version": "3.9.12"
  }
 },
 "nbformat": 4,
 "nbformat_minor": 5
}

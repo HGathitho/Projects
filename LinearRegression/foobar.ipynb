{
 "cells": [
  {
   "cell_type": "code",
   "execution_count": 1,
   "id": "399c231b-b535-4672-afde-55d9f998bf50",
   "metadata": {},
   "outputs": [
    {
     "data": {
      "text/plain": [
       "'8'"
      ]
     },
     "execution_count": 1,
     "metadata": {},
     "output_type": "execute_result"
    }
   ],
   "source": [
    "def solution(xs):\n",
    "    nums=[]\n",
    "    negs=[]\n",
    "    maxpower=1\n",
    "    \n",
    "    if (max(xs) ==0 and min(xs) <0):\n",
    "        return str(0)\n",
    "    if (max(xs) ==0 and min(xs) == 0):\n",
    "        return str(0)\n",
    "    for i in xs:\n",
    "        if (i != 0):\n",
    "            nums.append(i)\n",
    "            if i < 0:\n",
    "                negs.append(i)\n",
    "    if (max(nums) < 0 and len(nums) == 1):\n",
    "        return nums[0]\n",
    "    if (len(negs) % 2 == 1 and len(negs) >= 1):\n",
    "        negs.sort()\n",
    "        nums.remove(negs[len(negs) - 1])\n",
    "        \n",
    "    for i in nums:\n",
    "        maxpower *= i\n",
    "    return str(int(maxpower))\n",
    "\n",
    "solution([2, 0, 2, 2, 0])"
   ]
  },
  {
   "cell_type": "code",
   "execution_count": 2,
   "id": "addfb2b1-33a8-473e-89d1-2b7845e0ea84",
   "metadata": {},
   "outputs": [
    {
     "data": {
      "text/plain": [
       "'60'"
      ]
     },
     "execution_count": 2,
     "metadata": {},
     "output_type": "execute_result"
    }
   ],
   "source": [
    "solution([-2, -3, 4, -5])"
   ]
  },
  {
   "cell_type": "code",
   "execution_count": 3,
   "id": "616eb132-c08c-4b6f-a6e3-8572b4ac4897",
   "metadata": {},
   "outputs": [],
   "source": [
    "def solution(xs):\n",
    "\n",
    "    if(xs.count(0) == len(xs)):\n",
    "        return(str(0))\n",
    "\n",
    "    if(len(xs) == 1 and len([n for n in xs if n < 0]) == 1):\n",
    "        return(str(xs[0]))\n",
    "\n",
    "    if(len([n for n in xs if n < 0]) == 1 and xs.count(0) == len(xs)-1):\n",
    "        return(str(0))\n",
    "\n",
    "    Val = 1\n",
    "\n",
    "    for i in xs:\n",
    "        if (i != 0 and i <= 1000):\n",
    "            Val *= i\n",
    "\n",
    "    if Val < 0:\n",
    "        BigNeg = max([n for n in xs if n < 0])\n",
    "        Val = Val/BigNeg\n",
    "\n",
    "    return(str(int(Val)))"
   ]
  },
  {
   "cell_type": "code",
   "execution_count": 4,
   "id": "a8f572d1-e730-4d01-bbb5-70fd6bff5f5d",
   "metadata": {},
   "outputs": [
    {
     "data": {
      "text/plain": [
       "'8'"
      ]
     },
     "execution_count": 4,
     "metadata": {},
     "output_type": "execute_result"
    }
   ],
   "source": [
    "solution([2, 0, 2, 2, 0])"
   ]
  },
  {
   "cell_type": "code",
   "execution_count": 5,
   "id": "c766cdac-2f21-4d2a-973e-8191ce3b86ab",
   "metadata": {},
   "outputs": [
    {
     "data": {
      "text/plain": [
       "'8'"
      ]
     },
     "execution_count": 5,
     "metadata": {},
     "output_type": "execute_result"
    }
   ],
   "source": [
    "solution([2, 0, 2, 2, 0])"
   ]
  },
  {
   "cell_type": "code",
   "execution_count": 6,
   "id": "4b9d9e76-daf5-49e2-906c-1ee8d15df4d8",
   "metadata": {},
   "outputs": [],
   "source": [
    "def dTob(d, b):\n",
    "    digits = []\n",
    "    while d > 0:\n",
    "        digits.insert(0, str(d % b))\n",
    "        d  = d / b\n",
    "    return ''.join(digits)\n",
    "def bTod(b, c):\n",
    "  n = 0\n",
    "  for d in str(b):\n",
    "    n = c * n + int(d)\n",
    "  return n\n",
    "def negative(x, y, b):\n",
    "  if b==10:\n",
    "    return int(x) - int(y)\n",
    "  dx=bTod(x,b)\n",
    "  dy=bTod(y,b)\n",
    "  dz=dx-dy\n",
    "  return dTob(dz, b)\n",
    "def solution(n, b):\n",
    "    arr=[]\n",
    "    while True:\n",
    "        i = \"\".join(sorted(str(n), reverse=True))\n",
    "        j = \"\".join(sorted(str(n)))\n",
    "        k = negative(i,j,b)\n",
    "        k2 = len(str(k))\n",
    "        i2 = len(str(i))\n",
    "        if (k2) != i2:\n",
    "            k = k * pow(10 ,(i2-k2))\n",
    "        for index, item in enumerate(arr):\n",
    "          if item == k:\n",
    "            return index + 1\n",
    "        arr = [k] + arr\n",
    "        n = k"
   ]
  },
  {
   "cell_type": "code",
   "execution_count": 7,
   "id": "3ae4db48-dee8-45a5-a54f-2d620f4be201",
   "metadata": {},
   "outputs": [
    {
     "ename": "NameError",
     "evalue": "name 'answer' is not defined",
     "output_type": "error",
     "traceback": [
      "\u001b[1;31m---------------------------------------------------------------------------\u001b[0m",
      "\u001b[1;31mNameError\u001b[0m                                 Traceback (most recent call last)",
      "Input \u001b[1;32mIn [7]\u001b[0m, in \u001b[0;36m<cell line: 1>\u001b[1;34m()\u001b[0m\n\u001b[1;32m----> 1\u001b[0m \u001b[43manswer\u001b[49m(\u001b[38;5;124m'\u001b[39m\u001b[38;5;124m1211\u001b[39m\u001b[38;5;124m'\u001b[39m, \u001b[38;5;241m10\u001b[39m)\n",
      "\u001b[1;31mNameError\u001b[0m: name 'answer' is not defined"
     ]
    }
   ],
   "source": [
    "answer('1211', 10)"
   ]
  },
  {
   "cell_type": "code",
   "execution_count": null,
   "id": "d17772fa-b1bd-4225-9286-9b2ffd0dc075",
   "metadata": {},
   "outputs": [],
   "source": [
    "answer('1211', 10)"
   ]
  },
  {
   "cell_type": "code",
   "execution_count": null,
   "id": "21eb9a17-29fb-4cf4-ac87-4387728ecaf8",
   "metadata": {},
   "outputs": [],
   "source": [
    "answer('210022', 3)"
   ]
  },
  {
   "cell_type": "code",
   "execution_count": null,
   "id": "3519f6e0-602d-46b9-b613-7f22aaa39594",
   "metadata": {},
   "outputs": [],
   "source": [
    "def solution(map):\n",
    "    # A* using Manhattan distance with 1 optional removal of a wall\n",
    "    door = (len(map) - 1, len(map[0]) - 1)\n",
    "    visited = set()\n",
    "    queue = [[True, 1, (0, 0)]]\n",
    "    # While queue, if neighbor node is door, return steps + 1, if node (under removal state) already visited, continue\n",
    "    # If not, mark as visited, add all possible moves to queue and sort queue by steps + Manhattan distance\n",
    "    while queue:\n",
    "        e = queue.pop(0)\n",
    "        removal, steps, node = e[0], e[1], e[2]\n",
    "        if (removal, node) in visited:\n",
    "            continue\n",
    "        visited.add((removal, node))\n",
    "        for dy, dx in [(0, 1), (1, 0), (0, -1), (-1, 0)]:\n",
    "            ny, nx = node[0] + dy, node[1] + dx\n",
    "            if 0 <= ny <= door[0] and 0 <= nx <= door[1]:\n",
    "                if (ny, nx) == door:\n",
    "                    return steps + 1\n",
    "                elif map[ny][nx] == 0:\n",
    "                    queue += [[removal, steps + 1, (ny, nx)]]\n",
    "                elif removal:\n",
    "                    queue += [[False, steps + 1, (ny, nx)]]\n",
    "        queue = sorted(queue, key=lambda x: x[1] + door[0] - x[2][0] + door[1] - x[2][1] + 1)"
   ]
  },
  {
   "cell_type": "code",
   "execution_count": null,
   "id": "47340f18-ef0a-48f8-a0a7-96cabd4939bb",
   "metadata": {},
   "outputs": [],
   "source": [
    "solution([[0, 1, 1, 0], [0, 0, 0, 1], [1, 1, 0, 0], [1, 1, 1, 0]])"
   ]
  },
  {
   "cell_type": "code",
   "execution_count": null,
   "id": "06e851eb-aebb-430f-968b-a6912d2eb2c9",
   "metadata": {},
   "outputs": [],
   "source": [
    "solution([[0, 0, 0, 0, 0, 0], [1, 1, 1, 1, 1, 0], [0, 0, 0, 0, 0, 0], [0, 1, 1, 1, 1, 1], [0, 1, 1, 1, 1, 1], [0, 0, 0, 0, 0, 0]])"
   ]
  },
  {
   "cell_type": "code",
   "execution_count": null,
   "id": "b01b93b9-ee48-46d9-88d7-c2ad806af671",
   "metadata": {},
   "outputs": [],
   "source": [
    "def multiplier(a, b):\n",
    "    diff = a - b\n",
    "    return (diff / b) + 1\n",
    "\n",
    "def solution(x, y):\n",
    "    step, m, f = 0, int(x), int(y)\n",
    "    while True:\n",
    "        if m <= 0 or f <= 0:\n",
    "            break\n",
    "        if m > 100 or f > 100:\n",
    "            if m > f:\n",
    "                mul = multiplier(m, f)\n",
    "                m -= f * mul\n",
    "                step += mul\n",
    "            elif f > m:\n",
    "                mul = multiplier(f, m)\n",
    "                f -= m * mul\n",
    "                step += mul\n",
    "            else:\n",
    "                break\n",
    "        else:\n",
    "            if m > f:\n",
    "                m -= f\n",
    "            elif f > m:\n",
    "                f -= m\n",
    "            else:\n",
    "                break\n",
    "            step += 1\n",
    "    \n",
    "    if m == 1 and f == 1 and step >= 0:\n",
    "        return str(step)\n",
    "    return 'impossible'\n",
    "\n",
    "if __name__ == \"__main__\":\n",
    "    m1, f1 = '2', '1'\n",
    "    print(solution(m1, f1))\n",
    "\n",
    "    m2, f2 = '4', '7'\n",
    "    print(solution(m2, f2))"
   ]
  },
  {
   "cell_type": "code",
   "execution_count": null,
   "id": "af6a9cb6-3cd6-4b10-b967-18e9223ec086",
   "metadata": {},
   "outputs": [],
   "source": [
    "solution('4', '7')"
   ]
  },
  {
   "cell_type": "code",
   "execution_count": null,
   "id": "dff22ed0-4cc0-461d-a4f1-168f55fb523b",
   "metadata": {},
   "outputs": [],
   "source": [
    "def solution(n):\n",
    "    \n",
    "    n = int(n)\n",
    "    steps = 0\n",
    "    \n",
    "    while(n!=1):\n",
    "        # If even divide it by 2\n",
    "        if (n%2==0):\n",
    "            n = n/2\n",
    "            \n",
    "        # if not even,either add or delte one fuel pallete\n",
    "        elif((n==3) or (n%4==1)):\n",
    "            n-=1\n",
    "        else:\n",
    "            n+=1\n",
    "            \n",
    "        # Increase number of steps\n",
    "        steps = steps + 1\n",
    "        \n",
    "    return steps\n",
    "        "
   ]
  },
  {
   "cell_type": "code",
   "execution_count": null,
   "id": "a86c263f-df64-43ed-835a-a5e98a5a3eea",
   "metadata": {},
   "outputs": [],
   "source": [
    "solution('15')"
   ]
  },
  {
   "cell_type": "code",
   "execution_count": null,
   "id": "ff6f2788-9fc0-4731-9537-db2a0f60eeb9",
   "metadata": {},
   "outputs": [],
   "source": [
    "solution('4')"
   ]
  },
  {
   "cell_type": "code",
   "execution_count": null,
   "id": "27dfa44c-a512-432f-bc25-218c67d78e81",
   "metadata": {},
   "outputs": [],
   "source": [
    "solution('15')"
   ]
  },
  {
   "cell_type": "code",
   "execution_count": null,
   "id": "f622de69-4b89-4195-aef9-2d4b5d2a8479",
   "metadata": {},
   "outputs": [],
   "source": [
    "class Graph:\n",
    "    def __init__(self,banana_list):\n",
    "        self.list_len = len(banana_list)\n",
    "        self.graph = list([0]*self.list_len for i in xrange(self.list_len))\n",
    "        for i in xrange(self.list_len):\n",
    "            for j in xrange(self.list_len):\n",
    "                if i < j: \n",
    "                    self.graph[i][j] = self.dead_lock(banana_list[i], banana_list[j])\n",
    "                    self.graph[j][i] = self.graph[i][j]  \n",
    "\n",
    "    def gcd(self, x, y):\n",
    "       while(y): x, y = y, x % y\n",
    "       return x\n",
    "\n",
    "    def dead_lock(self, x,y):\n",
    "        if x == y: return 0\n",
    "        l = self.gcd(x,y)\n",
    "        if (x+y) % 2 == 1: return 1\n",
    "        x,y = x/l,y/l\n",
    "        x,y = max(x,y), min(x,y)    \n",
    "        return self.dead_lock(x-y,2*y)\n",
    "\n",
    "    def bpm(self, u, matchR, seen):\n",
    "        for v in range(self.list_len):\n",
    "            if self.graph[u][v] and seen[v] == False:\n",
    "                seen[v] = True\n",
    " \n",
    "                if matchR[v] == -1 or self.bpm(matchR[v], matchR, seen):\n",
    "                    matchR[v] = u\n",
    "                    return True\n",
    "        return False\n",
    "\n",
    "    def maxGaurdPair(self):\n",
    "        matchR = [-1] * self.list_len\n",
    "        result = 0\n",
    "        for i in range(self.list_len):\n",
    "            seen = [False] * self.list_len\n",
    "            if self.bpm(i, matchR, seen):\n",
    "                result += 1\n",
    "        return self.list_len- 2*(result/2)\n",
    "\n",
    "\n",
    "def solution(l):\n",
    "    return Graph(l).maxGaurdPair()"
   ]
  },
  {
   "cell_type": "code",
   "execution_count": null,
   "id": "a7af1a68-4a1d-43db-b62a-da78b0420c2e",
   "metadata": {},
   "outputs": [],
   "source": [
    "def solution(banana_list):\n",
    "    g = generate_graph(banana_list)\n",
    "    matches = reduce(g)\n",
    "    return len(banana_list) - matches\n",
    "\n",
    "def loop(x,y):\n",
    "    base = int((x+y)/gcd(x,y))\n",
    "    return bool(base & (base - 1))\n",
    "\n",
    "def gcd(a,b):\n",
    "    while b:\n",
    "        a, b = b, a % b\n",
    "    return a\n",
    "\n",
    "def generate_graph(banana_list):\n",
    "    G = {i: [] for i in range(len(banana_list))}\n",
    "    for i in range(len(banana_list)):\n",
    "        for j in range(i, len(banana_list)):\n",
    "            if i != j and loop(banana_list[i], banana_list[j]):\n",
    "                G[i].append(j)\n",
    "                G[j].append(i)\n",
    "    return G\n",
    "\n",
    "def reduce(g):\n",
    "    matched = 0\n",
    "    checks = len(g[max(g, key=lambda key: len(g[key]))])\n",
    "    while len(g) > 1 and checks >= 1:\n",
    "        init_mw_node = min(g, key=lambda key: len(g[key]))\n",
    "        if (len(g[init_mw_node])) < 1 :\n",
    "            del g[init_mw_node]\n",
    "        else:\n",
    "            temp_sec_min = [len(g[g[init_mw_node][0]])+1,1]\n",
    "            for node_i in g[init_mw_node]:\n",
    "                if len(g[node_i]) < temp_sec_min[0]:\n",
    "                    temp_sec_min = [len(g[node_i]), node_i]\n",
    "                for check_i in range(len(g[node_i])):\n",
    "                    if g[node_i][check_i] == init_mw_node:\n",
    "                        del g[node_i][check_i]\n",
    "                        break\n",
    "            for node_i in g[temp_sec_min[1]]:\n",
    "                for check_i in range(len(g[node_i])):\n",
    "                    if g[node_i][check_i] == temp_sec_min[1]:\n",
    "                        del g[node_i][check_i]\n",
    "                        break\n",
    "            del g[init_mw_node]\n",
    "            del g[temp_sec_min[1]]\n",
    "            matched += 2\n",
    "        if len(g) > 1:\n",
    "            checks = len(g[max(g, key=lambda key: len(g[key]))])\n",
    "    return matched"
   ]
  },
  {
   "cell_type": "code",
   "execution_count": null,
   "id": "d029f1d0-af4a-4131-af80-26f0b0e7a4df",
   "metadata": {},
   "outputs": [
    {
     "ename": "TypeError",
     "evalue": "solution() missing 1 required positional argument: 'times_limit'",
     "output_type": "error",
     "traceback": [
      "\u001b[1;31m---------------------------------------------------------------------------\u001b[0m",
      "\u001b[1;31mTypeError\u001b[0m                                 Traceback (most recent call last)",
      "Input \u001b[1;32mIn [16]\u001b[0m, in \u001b[0;36m<cell line: 1>\u001b[1;34m()\u001b[0m\n\u001b[1;32m----> 1\u001b[0m \u001b[43msolution\u001b[49m\u001b[43m(\u001b[49m\u001b[43m[\u001b[49m\u001b[38;5;241;43m1\u001b[39;49m\u001b[43m,\u001b[49m\u001b[43m \u001b[49m\u001b[38;5;241;43m7\u001b[39;49m\u001b[43m,\u001b[49m\u001b[43m \u001b[49m\u001b[38;5;241;43m3\u001b[39;49m\u001b[43m,\u001b[49m\u001b[43m \u001b[49m\u001b[38;5;241;43m21\u001b[39;49m\u001b[43m,\u001b[49m\u001b[43m \u001b[49m\u001b[38;5;241;43m13\u001b[39;49m\u001b[43m,\u001b[49m\u001b[43m \u001b[49m\u001b[38;5;241;43m19\u001b[39;49m\u001b[43m]\u001b[49m\u001b[43m)\u001b[49m\n\u001b[0;32m      2\u001b[0m solution([\u001b[38;5;241m1\u001b[39m,\u001b[38;5;241m1\u001b[39m])\n",
      "\u001b[1;31mTypeError\u001b[0m: solution() missing 1 required positional argument: 'times_limit'"
     ]
    }
   ],
   "source": [
    "solution([1, 7, 3, 21, 13, 19])\n",
    "solution([1,1])"
   ]
  },
  {
   "cell_type": "code",
   "execution_count": 20,
   "id": "89fa0ea6-f9bf-4f76-a260-449e7e5cfb79",
   "metadata": {},
   "outputs": [],
   "source": [
    "import itertools\n",
    "\n",
    "def convert_to_path(perm):\n",
    "    perm = list(perm)\n",
    "    perm = [0] + perm + [-1]\n",
    "    path = list()\n",
    "    for i in range(1, len(perm)):\n",
    "        path.append((perm[i - 1], perm[i]))\n",
    "    return path\n",
    "\n",
    "def solution(times, times_limit):\n",
    "    rows = len(times)\n",
    "    bunnies = rows - 2\n",
    "\n",
    "    for k in range(rows):\n",
    "        for i in range(rows):\n",
    "            for j in range(rows):\n",
    "                if times[i][j] > times[i][k] + times[k][j]:\n",
    "                    times[i][j] = times[i][k] + times[k][j]\n",
    "\n",
    "    for r in range(rows):\n",
    "        if times[r][r] < 0:\n",
    "            return [i for i in range(bunnies)]\n",
    "\n",
    "    for i in reversed(range(bunnies + 1)):\n",
    "        for perm in itertools.permutations(range(1, bunnies + 1), i):\n",
    "            total_time = 0\n",
    "            path = convert_to_path(perm)\n",
    "            for start, end in path:\n",
    "                total_time += times[start][end]\n",
    "            if total_time <= times_limit:\n",
    "                return sorted(list(i - 1 for i in perm))\n",
    "    return None"
   ]
  },
  {
   "cell_type": "code",
   "execution_count": 21,
   "id": "b88b9e83-92d0-4b55-8e94-ff406055b11b",
   "metadata": {
    "tags": []
   },
   "outputs": [
    {
     "data": {
      "text/plain": [
       "[1, 2]"
      ]
     },
     "execution_count": 21,
     "metadata": {},
     "output_type": "execute_result"
    }
   ],
   "source": [
    "solution([[0, 2, 2, 2, -1], [9, 0, 2, 2, -1], [9, 3, 0, 2, -1], [9, 3, 2, 0, -1], [9, 3, 2, 2, 0]], 1)"
   ]
  },
  {
   "cell_type": "code",
   "execution_count": 22,
   "id": "c647a9dc-5645-42df-8a05-9753a2b5d32f",
   "metadata": {},
   "outputs": [
    {
     "data": {
      "text/plain": [
       "[0, 1]"
      ]
     },
     "execution_count": 22,
     "metadata": {},
     "output_type": "execute_result"
    }
   ],
   "source": [
    "solution([[0, 1, 1, 1, 1], [1, 0, 1, 1, 1], [1, 1, 0, 1, 1], [1, 1, 1, 0, 1], [1, 1, 1, 1, 0]], 3)"
   ]
  },
  {
   "cell_type": "code",
   "execution_count": 2,
   "id": "a58fee67-ccb4-4093-b33b-e063725eb3cb",
   "metadata": {},
   "outputs": [
    {
     "ename": "ImportError",
     "evalue": "cannot import name 'gcd' from 'fractions' (C:\\ProgramData\\Anaconda3\\lib\\fractions.py)",
     "output_type": "error",
     "traceback": [
      "\u001b[1;31m---------------------------------------------------------------------------\u001b[0m",
      "\u001b[1;31mImportError\u001b[0m                               Traceback (most recent call last)",
      "Input \u001b[1;32mIn [2]\u001b[0m, in \u001b[0;36m<cell line: 3>\u001b[1;34m()\u001b[0m\n\u001b[0;32m      1\u001b[0m \u001b[38;5;28;01mfrom\u001b[39;00m \u001b[38;5;21;01mmath\u001b[39;00m \u001b[38;5;28;01mimport\u001b[39;00m factorial\n\u001b[0;32m      2\u001b[0m \u001b[38;5;28;01mfrom\u001b[39;00m \u001b[38;5;21;01mcollections\u001b[39;00m \u001b[38;5;28;01mimport\u001b[39;00m Counter\n\u001b[1;32m----> 3\u001b[0m \u001b[38;5;28;01mfrom\u001b[39;00m \u001b[38;5;21;01mfractions\u001b[39;00m \u001b[38;5;28;01mimport\u001b[39;00m gcd\n\u001b[0;32m      5\u001b[0m \u001b[38;5;28;01mdef\u001b[39;00m \u001b[38;5;21mcycle_count\u001b[39m(c, n):\n\u001b[0;32m      6\u001b[0m     cc\u001b[38;5;241m=\u001b[39mfactorial(n)\n",
      "\u001b[1;31mImportError\u001b[0m: cannot import name 'gcd' from 'fractions' (C:\\ProgramData\\Anaconda3\\lib\\fractions.py)"
     ]
    }
   ],
   "source": [
    "from math import factorial\n",
    "from collections import Counter\n",
    "from fractions import gcd\n",
    "\n",
    "def cycle_count(c, n):\n",
    "    cc=factorial(n)\n",
    "    for a, b in Counter(c).items():\n",
    "        cc//=(a**b)*factorial(b)\n",
    "    return cc        \n",
    "\n",
    "def cycle_partitions(n, i=1):\n",
    "    yield [n]\n",
    "    for i in range(i, n//2 + 1):\n",
    "        for p in cycle_partitions(n-i, i):\n",
    "            yield [i] + p\n",
    "\n",
    "def solution(w, h, s):    \n",
    "    grid=0\n",
    "    for cpw in cycle_partitions(w):\n",
    "        for cph in cycle_partitions(h):            \n",
    "            m=cycle_count(cpw, w)*cycle_count(cph, h)\n",
    "            grid+=m*(s**sum([sum([gcd(i, j) for i in cpw]) for j in cph]))\n",
    "              \n",
    "    return str(grid//(factorial(w)*factorial(h)))\n",
    "\n",
    "print (solution(2, 3, 4))"
   ]
  },
  {
   "cell_type": "code",
   "execution_count": null,
   "id": "4d34255d-d03e-4185-8825-d4babc867706",
   "metadata": {},
   "outputs": [],
   "source": []
  }
 ],
 "metadata": {
  "kernelspec": {
   "display_name": "Python 3 (ipykernel)",
   "language": "python",
   "name": "python3"
  },
  "language_info": {
   "codemirror_mode": {
    "name": "ipython",
    "version": 3
   },
   "file_extension": ".py",
   "mimetype": "text/x-python",
   "name": "python",
   "nbconvert_exporter": "python",
   "pygments_lexer": "ipython3",
   "version": "3.9.12"
  }
 },
 "nbformat": 4,
 "nbformat_minor": 5
}
